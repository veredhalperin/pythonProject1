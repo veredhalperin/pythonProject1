{
 "cells": [
  {
   "cell_type": "markdown",
   "metadata": {},
   "source": [
    "# Imports"
   ]
  },
  {
   "cell_type": "code",
   "execution_count": 1,
   "metadata": {},
   "outputs": [],
   "source": [
    "import pandas as pd\n",
    "import os\n",
    "import glob\n",
    "import pandas as pd\n",
    "from sklearn.model_selection import train_test_split\n",
    "pd.options.display.max_columns = 100\n",
    "\n"
   ]
  },
  {
   "cell_type": "markdown",
   "metadata": {},
   "source": [
    "# Read Data"
   ]
  },
  {
   "cell_type": "code",
   "execution_count": null,
   "metadata": {},
   "outputs": [],
   "source": [
    "df = pd.read_csv('/home/meghanmergui/Synth20/Create_Synthetic_Games/synth_allPF.csv')"
   ]
  },
  {
   "cell_type": "markdown",
   "metadata": {},
   "source": [
    "# Group by individual type "
   ]
  },
  {
   "cell_type": "code",
   "execution_count": null,
   "metadata": {},
   "outputs": [],
   "source": [
    "group_indiv = pd.DataFrame(df.groupby(['sigma', 'beta', 'kapa', 'gama'])['GameId'].unique())\n",
    "indiv_games = group_indiv.to_dict()"
   ]
  },
  {
   "cell_type": "code",
   "execution_count": null,
   "metadata": {},
   "outputs": [],
   "source": [
    "indiv_games['GameId'].keys()"
   ]
  },
  {
   "cell_type": "markdown",
   "metadata": {},
   "source": [
    "# x_col, y_col"
   ]
  },
  {
   "cell_type": "code",
   "execution_count": null,
   "metadata": {},
   "outputs": [],
   "source": [
    "df.columns"
   ]
  },
  {
   "cell_type": "code",
   "execution_count": null,
   "metadata": {},
   "outputs": [],
   "source": [
    "feature_list = ['GameID',\n",
    "                'Ha', 'pHa', 'La', 'LotNumA',\n",
    "               'Hb', 'pHb', 'Lb', 'LotNumB',\n",
    "               'Corr',\n",
    "               'diffEV', 'diffSDs', 'diffMins', 'diffMaxs', 'diffUV', 'RatioMin', 'SignMax',\n",
    "               'Dom', 'diffBEV0', 'diffBEVfb', 'diffSignEV',\n",
    "               'GameBavg1', 'GameBavg2', 'GameBavg3', 'GameBavg4', 'GameBavg5']\n",
    "y_cols = ['beta_bin_B', 'sigma_bin_B', 'kapa_B',]"
   ]
  },
  {
   "cell_type": "markdown",
   "metadata": {},
   "source": [
    "# Create train, test encoder input, decoder output"
   ]
  },
  {
   "cell_type": "code",
   "execution_count": null,
   "metadata": {},
   "outputs": [],
   "source": [
    "# input : 20 games *35 features\n",
    "input_data_train = []\n",
    "# output : 1 class \n",
    "output_data_train_sigma =[]\n",
    "output_data_train_beta =[]\n",
    "output_data_train_kapa =[]\n",
    "output_data_train_gama =[]\n",
    "\n",
    "for indiv_beta_sigma_kapa in indiv_games['GameId'].keys(): \n",
    "    print(indiv_beta_sigma_kapa)\n",
    "    beta = indiv_beta_sigma_kapa[0]\n",
    "    sigma = indiv_beta_sigma_kapa[1]\n",
    "    kapa = indiv_beta_sigma_kapa[2]\n",
    "    df_indiv = df_train.loc[(df_train.sigma_bin == sigma) & (df_train.kapa == kapa) & (df_train.beta_bin == beta)]\n",
    "    print(df_indiv.shape)\n",
    "    while df_indiv.shape[0] >= 20 : \n",
    "        df_20 = df_indiv.sample(20)\n",
    "        if df_20.GameId.nunique() == 20 : \n",
    "            df_indiv = df_indiv.drop(df_20.index)\n",
    "            # Input\n",
    "            input_data_train.append(np.asarray(df_20[features_list]))\n",
    "            #  output\n",
    "            output_data_train_sigma.append(sigma)\n",
    "            output_data_train_beta.append(beta)\n",
    "            output_data_train_kapa.append(kapa)\n",
    "    print(len(input_data_train))\n",
    "    print(df_indiv.shape)\n",
    "            \n"
   ]
  }
 ],
 "metadata": {
  "kernelspec": {
   "display_name": "Python 3",
   "language": "python",
   "name": "python3"
  },
  "language_info": {
   "codemirror_mode": {
    "name": "ipython",
    "version": 3
   },
   "file_extension": ".py",
   "mimetype": "text/x-python",
   "name": "python",
   "nbconvert_exporter": "python",
   "pygments_lexer": "ipython3",
   "version": "3.6.9"
  },
  "toc": {
   "base_numbering": 1,
   "nav_menu": {},
   "number_sections": true,
   "sideBar": true,
   "skip_h1_title": false,
   "title_cell": "Table of Contents",
   "title_sidebar": "Contents",
   "toc_cell": false,
   "toc_position": {},
   "toc_section_display": true,
   "toc_window_display": true
  }
 },
 "nbformat": 4,
 "nbformat_minor": 2
}
