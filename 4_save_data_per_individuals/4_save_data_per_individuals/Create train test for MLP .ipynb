{
 "cells": [
  {
   "cell_type": "markdown",
   "metadata": {},
   "source": [
    "# Imports"
   ]
  },
  {
   "cell_type": "code",
   "execution_count": 1,
   "metadata": {},
   "outputs": [],
   "source": [
    "import pandas as pd\n",
    "import os\n",
    "import glob\n",
    "import pandas as pd\n",
    "from sklearn.model_selection import train_test_split\n",
    "pd.options.display.max_columns = 10000\n",
    "import numpy as np"
   ]
  },
  {
   "cell_type": "markdown",
   "metadata": {},
   "source": [
    "# Read Data"
   ]
  },
  {
   "cell_type": "code",
   "execution_count": 2,
   "metadata": {},
   "outputs": [],
   "source": [
    "df = pd.read_csv('/home/meghanmergui/Synth20/Create_Synthetic_Games/synth_all.csv')"
   ]
  },
  {
   "cell_type": "code",
   "execution_count": 3,
   "metadata": {},
   "outputs": [
    {
     "data": {
      "text/plain": [
       "(108000000, 22)"
      ]
     },
     "execution_count": 3,
     "metadata": {},
     "output_type": "execute_result"
    }
   ],
   "source": [
    "df.shape"
   ]
  },
  {
   "cell_type": "code",
   "execution_count": 4,
   "metadata": {},
   "outputs": [
    {
     "name": "stdout",
     "output_type": "stream",
     "text": [
      "[1.17 3.5  5.83]\n",
      "[0.43 1.3  2.17]\n",
      "[1 2 3]\n",
      "[1.5  0.33]\n"
     ]
    }
   ],
   "source": [
    "print(df.sigma.unique())\n",
    "print(df.beta.unique())\n",
    "print(df.kapa.unique())\n",
    "print(df.gama.unique())"
   ]
  },
  {
   "cell_type": "code",
   "execution_count": null,
   "metadata": {},
   "outputs": [],
   "source": [
    "pd.DataFrame(df.loc[(df.sigma == 3.5) & (df.beta == 1.3s) & (df.gama == )])['GameId'].unique()\n",
    "indiv_games = group_indiv.to_dict()"
   ]
  },
  {
   "cell_type": "code",
   "execution_count": null,
   "metadata": {},
   "outputs": [],
   "source": [
    "indiv_games['GameId'].keys()"
   ]
  },
  {
   "cell_type": "markdown",
   "metadata": {},
   "source": [
    "# Group by individual type "
   ]
  },
  {
   "cell_type": "code",
   "execution_count": 16,
   "metadata": {},
   "outputs": [],
   "source": [
    "group_indiv = pd.DataFrame(df.groupby(['sigma', 'beta', 'kapa', 'gama'])['GameId'].unique())\n",
    "indiv_games = group_indiv.to_dict()"
   ]
  },
  {
   "cell_type": "code",
   "execution_count": 17,
   "metadata": {},
   "outputs": [],
   "source": [
    "del group_indiv"
   ]
  },
  {
   "cell_type": "code",
   "execution_count": null,
   "metadata": {},
   "outputs": [],
   "source": [
    "in"
   ]
  },
  {
   "cell_type": "code",
   "execution_count": 18,
   "metadata": {},
   "outputs": [
    {
     "data": {
      "text/plain": [
       "dict_keys([(1.17, 0.43, 1, 0.33), (1.17, 0.43, 1, 1.5), (1.17, 0.43, 2, 0.33), (1.17, 0.43, 2, 1.5), (1.17, 0.43, 3, 0.33), (1.17, 0.43, 3, 1.5), (1.17, 1.3, 1, 0.33), (1.17, 1.3, 1, 1.5), (1.17, 1.3, 2, 0.33), (1.17, 1.3, 2, 1.5), (1.17, 1.3, 3, 0.33), (1.17, 1.3, 3, 1.5), (1.17, 2.17, 1, 0.33), (1.17, 2.17, 1, 1.5), (1.17, 2.17, 2, 0.33), (1.17, 2.17, 2, 1.5), (1.17, 2.17, 3, 0.33), (1.17, 2.17, 3, 1.5), (3.5, 0.43, 1, 0.33), (3.5, 0.43, 1, 1.5), (3.5, 0.43, 2, 0.33), (3.5, 0.43, 2, 1.5), (3.5, 0.43, 3, 0.33), (3.5, 0.43, 3, 1.5), (3.5, 1.3, 1, 0.33), (3.5, 1.3, 1, 1.5), (3.5, 1.3, 2, 0.33), (3.5, 1.3, 2, 1.5), (3.5, 1.3, 3, 0.33), (3.5, 1.3, 3, 1.5), (3.5, 2.17, 1, 0.33), (3.5, 2.17, 1, 1.5), (3.5, 2.17, 2, 0.33), (3.5, 2.17, 2, 1.5), (3.5, 2.17, 3, 0.33), (3.5, 2.17, 3, 1.5), (5.83, 0.43, 1, 0.33), (5.83, 0.43, 1, 1.5), (5.83, 0.43, 2, 0.33), (5.83, 0.43, 2, 1.5), (5.83, 0.43, 3, 0.33), (5.83, 0.43, 3, 1.5), (5.83, 1.3, 1, 0.33), (5.83, 1.3, 1, 1.5), (5.83, 1.3, 2, 0.33), (5.83, 1.3, 2, 1.5), (5.83, 1.3, 3, 0.33), (5.83, 1.3, 3, 1.5), (5.83, 2.17, 1, 0.33), (5.83, 2.17, 1, 1.5), (5.83, 2.17, 2, 0.33), (5.83, 2.17, 2, 1.5), (5.83, 2.17, 3, 0.33), (5.83, 2.17, 3, 1.5)])"
      ]
     },
     "execution_count": 18,
     "metadata": {},
     "output_type": "execute_result"
    }
   ],
   "source": [
    "indiv_games['GameId'].keys()"
   ]
  },
  {
   "cell_type": "code",
   "execution_count": 19,
   "metadata": {},
   "outputs": [
    {
     "data": {
      "text/plain": [
       "10000"
      ]
     },
     "execution_count": 19,
     "metadata": {},
     "output_type": "execute_result"
    }
   ],
   "source": [
    "len(indiv_games['GameId'][(1.17,0.43, 1,0.33)])"
   ]
  },
  {
   "cell_type": "markdown",
   "metadata": {},
   "source": [
    "# Create Dataframe"
   ]
  },
  {
   "cell_type": "code",
   "execution_count": 20,
   "metadata": {},
   "outputs": [
    {
     "data": {
      "text/plain": [
       "Index(['Ha', 'pHa', 'La', 'LotNumA', 'LotShapeA', 'Hb', 'pHb', 'Lb', 'LotNumB',\n",
       "       'LotShapeB', 'Corr', 'Amb', 'GameId', 'B1', 'sigma', 'kapa', 'beta',\n",
       "       'gama', 'psi', 'theta', 'wamb', 'Beast1'],\n",
       "      dtype='object')"
      ]
     },
     "execution_count": 20,
     "metadata": {},
     "output_type": "execute_result"
    }
   ],
   "source": [
    "df.columns"
   ]
  },
  {
   "cell_type": "markdown",
   "metadata": {},
   "source": [
    "## Add PF"
   ]
  },
  {
   "cell_type": "code",
   "execution_count": 21,
   "metadata": {},
   "outputs": [
    {
     "name": "stdout",
     "output_type": "stream",
     "text": [
      "(10000, 28)\n"
     ]
    }
   ],
   "source": [
    "PF_games = pd.read_csv('/home/meghanmergui/Synth20/Create_Synthetic_Games/2_Add_PF/Synth10KPF.csv')\n",
    "print(PF_games.shape)"
   ]
  },
  {
   "cell_type": "code",
   "execution_count": 22,
   "metadata": {},
   "outputs": [
    {
     "data": {
      "text/html": [
       "<div>\n",
       "<style scoped>\n",
       "    .dataframe tbody tr th:only-of-type {\n",
       "        vertical-align: middle;\n",
       "    }\n",
       "\n",
       "    .dataframe tbody tr th {\n",
       "        vertical-align: top;\n",
       "    }\n",
       "\n",
       "    .dataframe thead th {\n",
       "        text-align: right;\n",
       "    }\n",
       "</style>\n",
       "<table border=\"1\" class=\"dataframe\">\n",
       "  <thead>\n",
       "    <tr style=\"text-align: right;\">\n",
       "      <th></th>\n",
       "      <th>Ha</th>\n",
       "      <th>pHa</th>\n",
       "      <th>La</th>\n",
       "      <th>LotNumA</th>\n",
       "      <th>LotShapeA</th>\n",
       "      <th>Hb</th>\n",
       "      <th>pHb</th>\n",
       "      <th>Lb</th>\n",
       "      <th>LotNumB</th>\n",
       "      <th>LotShapeB</th>\n",
       "      <th>Corr</th>\n",
       "      <th>Amb</th>\n",
       "      <th>diffEV</th>\n",
       "      <th>diffSDs</th>\n",
       "      <th>diffMins</th>\n",
       "      <th>diffMaxs</th>\n",
       "      <th>diffUV</th>\n",
       "      <th>RatioMin</th>\n",
       "      <th>SignMax</th>\n",
       "      <th>pBbet_Unbiased1</th>\n",
       "      <th>pBbet_UnbiasedFB</th>\n",
       "      <th>pBbet_Uniform</th>\n",
       "      <th>pBbet_Sign1</th>\n",
       "      <th>pBbet_SignFB</th>\n",
       "      <th>Dom</th>\n",
       "      <th>diffBEV0</th>\n",
       "      <th>diffBEVfb</th>\n",
       "      <th>diffSignEV</th>\n",
       "    </tr>\n",
       "  </thead>\n",
       "  <tbody>\n",
       "    <tr>\n",
       "      <th>0</th>\n",
       "      <td>53</td>\n",
       "      <td>0.25</td>\n",
       "      <td>-20</td>\n",
       "      <td>1</td>\n",
       "      <td>-</td>\n",
       "      <td>86</td>\n",
       "      <td>0.25</td>\n",
       "      <td>-23</td>\n",
       "      <td>1</td>\n",
       "      <td>-</td>\n",
       "      <td>0</td>\n",
       "      <td>0</td>\n",
       "      <td>6.00</td>\n",
       "      <td>15.588457</td>\n",
       "      <td>-3.0</td>\n",
       "      <td>33.0</td>\n",
       "      <td>15.00</td>\n",
       "      <td>0.869565</td>\n",
       "      <td>1.0</td>\n",
       "      <td>-0.4962</td>\n",
       "      <td>-0.5010</td>\n",
       "      <td>0.0014</td>\n",
       "      <td>0.0000</td>\n",
       "      <td>-0.0040</td>\n",
       "      <td>0</td>\n",
       "      <td>6.00</td>\n",
       "      <td>6.00</td>\n",
       "      <td>0.000000e+00</td>\n",
       "    </tr>\n",
       "    <tr>\n",
       "      <th>1</th>\n",
       "      <td>42</td>\n",
       "      <td>0.01</td>\n",
       "      <td>9</td>\n",
       "      <td>4</td>\n",
       "      <td>R-skew</td>\n",
       "      <td>9</td>\n",
       "      <td>1.00</td>\n",
       "      <td>9</td>\n",
       "      <td>1</td>\n",
       "      <td>-</td>\n",
       "      <td>0</td>\n",
       "      <td>0</td>\n",
       "      <td>-0.33</td>\n",
       "      <td>-3.315283</td>\n",
       "      <td>0.0</td>\n",
       "      <td>-44.0</td>\n",
       "      <td>-28.40</td>\n",
       "      <td>1.000000</td>\n",
       "      <td>1.0</td>\n",
       "      <td>-0.0110</td>\n",
       "      <td>-0.0082</td>\n",
       "      <td>-0.7909</td>\n",
       "      <td>0.0000</td>\n",
       "      <td>0.0000</td>\n",
       "      <td>-1</td>\n",
       "      <td>-0.33</td>\n",
       "      <td>-0.33</td>\n",
       "      <td>7.105427e-15</td>\n",
       "    </tr>\n",
       "    <tr>\n",
       "      <th>2</th>\n",
       "      <td>-4</td>\n",
       "      <td>1.00</td>\n",
       "      <td>-4</td>\n",
       "      <td>1</td>\n",
       "      <td>-</td>\n",
       "      <td>5</td>\n",
       "      <td>0.99</td>\n",
       "      <td>-20</td>\n",
       "      <td>4</td>\n",
       "      <td>Symm</td>\n",
       "      <td>0</td>\n",
       "      <td>0</td>\n",
       "      <td>8.75</td>\n",
       "      <td>2.632489</td>\n",
       "      <td>-16.0</td>\n",
       "      <td>10.5</td>\n",
       "      <td>4.00</td>\n",
       "      <td>0.200000</td>\n",
       "      <td>1.0</td>\n",
       "      <td>0.9804</td>\n",
       "      <td>0.9838</td>\n",
       "      <td>0.5854</td>\n",
       "      <td>0.9910</td>\n",
       "      <td>0.9885</td>\n",
       "      <td>0</td>\n",
       "      <td>8.75</td>\n",
       "      <td>8.75</td>\n",
       "      <td>5.247000e+01</td>\n",
       "    </tr>\n",
       "    <tr>\n",
       "      <th>3</th>\n",
       "      <td>13</td>\n",
       "      <td>1.00</td>\n",
       "      <td>13</td>\n",
       "      <td>1</td>\n",
       "      <td>-</td>\n",
       "      <td>54</td>\n",
       "      <td>0.40</td>\n",
       "      <td>-9</td>\n",
       "      <td>1</td>\n",
       "      <td>-</td>\n",
       "      <td>0</td>\n",
       "      <td>0</td>\n",
       "      <td>3.20</td>\n",
       "      <td>30.863571</td>\n",
       "      <td>-22.0</td>\n",
       "      <td>41.0</td>\n",
       "      <td>9.50</td>\n",
       "      <td>0.000000</td>\n",
       "      <td>1.0</td>\n",
       "      <td>-0.1992</td>\n",
       "      <td>-0.1986</td>\n",
       "      <td>0.0094</td>\n",
       "      <td>-0.5980</td>\n",
       "      <td>-0.6006</td>\n",
       "      <td>0</td>\n",
       "      <td>3.20</td>\n",
       "      <td>3.20</td>\n",
       "      <td>-7.560000e+01</td>\n",
       "    </tr>\n",
       "    <tr>\n",
       "      <th>4</th>\n",
       "      <td>-6</td>\n",
       "      <td>1.00</td>\n",
       "      <td>-6</td>\n",
       "      <td>1</td>\n",
       "      <td>-</td>\n",
       "      <td>-6</td>\n",
       "      <td>1.00</td>\n",
       "      <td>-6</td>\n",
       "      <td>8</td>\n",
       "      <td>L-skew</td>\n",
       "      <td>0</td>\n",
       "      <td>0</td>\n",
       "      <td>0.00</td>\n",
       "      <td>26.172505</td>\n",
       "      <td>-247.0</td>\n",
       "      <td>7.0</td>\n",
       "      <td>-54.75</td>\n",
       "      <td>0.023715</td>\n",
       "      <td>1.0</td>\n",
       "      <td>0.7474</td>\n",
       "      <td>0.7520</td>\n",
       "      <td>-0.2656</td>\n",
       "      <td>0.5044</td>\n",
       "      <td>0.5076</td>\n",
       "      <td>0</td>\n",
       "      <td>0.00</td>\n",
       "      <td>0.00</td>\n",
       "      <td>2.540000e+02</td>\n",
       "    </tr>\n",
       "  </tbody>\n",
       "</table>\n",
       "</div>"
      ],
      "text/plain": [
       "   Ha   pHa  La  LotNumA LotShapeA  Hb   pHb  Lb  LotNumB LotShapeB  Corr  \\\n",
       "0  53  0.25 -20        1         -  86  0.25 -23        1         -     0   \n",
       "1  42  0.01   9        4    R-skew   9  1.00   9        1         -     0   \n",
       "2  -4  1.00  -4        1         -   5  0.99 -20        4      Symm     0   \n",
       "3  13  1.00  13        1         -  54  0.40  -9        1         -     0   \n",
       "4  -6  1.00  -6        1         -  -6  1.00  -6        8    L-skew     0   \n",
       "\n",
       "   Amb  diffEV    diffSDs  diffMins  diffMaxs  diffUV  RatioMin  SignMax  \\\n",
       "0    0    6.00  15.588457      -3.0      33.0   15.00  0.869565      1.0   \n",
       "1    0   -0.33  -3.315283       0.0     -44.0  -28.40  1.000000      1.0   \n",
       "2    0    8.75   2.632489     -16.0      10.5    4.00  0.200000      1.0   \n",
       "3    0    3.20  30.863571     -22.0      41.0    9.50  0.000000      1.0   \n",
       "4    0    0.00  26.172505    -247.0       7.0  -54.75  0.023715      1.0   \n",
       "\n",
       "   pBbet_Unbiased1  pBbet_UnbiasedFB  pBbet_Uniform  pBbet_Sign1  \\\n",
       "0          -0.4962           -0.5010         0.0014       0.0000   \n",
       "1          -0.0110           -0.0082        -0.7909       0.0000   \n",
       "2           0.9804            0.9838         0.5854       0.9910   \n",
       "3          -0.1992           -0.1986         0.0094      -0.5980   \n",
       "4           0.7474            0.7520        -0.2656       0.5044   \n",
       "\n",
       "   pBbet_SignFB  Dom  diffBEV0  diffBEVfb    diffSignEV  \n",
       "0       -0.0040    0      6.00       6.00  0.000000e+00  \n",
       "1        0.0000   -1     -0.33      -0.33  7.105427e-15  \n",
       "2        0.9885    0      8.75       8.75  5.247000e+01  \n",
       "3       -0.6006    0      3.20       3.20 -7.560000e+01  \n",
       "4        0.5076    0      0.00       0.00  2.540000e+02  "
      ]
     },
     "execution_count": 22,
     "metadata": {},
     "output_type": "execute_result"
    }
   ],
   "source": [
    "PF_games.head(5)"
   ]
  },
  {
   "cell_type": "code",
   "execution_count": 23,
   "metadata": {},
   "outputs": [
    {
     "name": "stdout",
     "output_type": "stream",
     "text": [
      "(108000000, 38)\n"
     ]
    }
   ],
   "source": [
    "# Merge Dataframe\n",
    "df = df.merge(PF_games, on=['Ha', 'pHa', 'La', 'LotShapeA', 'LotNumA', 'Hb', 'pHb', 'Lb', 'LotShapeB', 'LotNumB', \n",
    "                           'Corr', 'Amb'], how='left')\n",
    "print(df.shape)"
   ]
  },
  {
   "cell_type": "markdown",
   "metadata": {},
   "source": [
    "## Encode Lotshape"
   ]
  },
  {
   "cell_type": "code",
   "execution_count": 24,
   "metadata": {},
   "outputs": [],
   "source": [
    "def lot_shape_convert(lot_shape):\n",
    "    if lot_shape == '-' : \n",
    "        return 1,0,0,0\n",
    "    elif lot_shape == 'Symm' : \n",
    "        return 0,1,0,0\n",
    "    elif lot_shape == 'L-skew' : \n",
    "        return 0,0,1,0\n",
    "    elif lot_shape == 'R-skew' :\n",
    "        return 0,0,0,1"
   ]
  },
  {
   "cell_type": "code",
   "execution_count": 25,
   "metadata": {},
   "outputs": [],
   "source": [
    "df['lot_shape__B'], df['lot_shape_symm_B'], df['lot_shape_L_B'], df['lot_shape_R_B'] = zip(*df['LotShapeB'].map(lot_shape_convert))"
   ]
  },
  {
   "cell_type": "code",
   "execution_count": 26,
   "metadata": {},
   "outputs": [],
   "source": [
    "df['lot_shape__A'], df['lot_shape_symm_A'], df['lot_shape_L_A'], df['lot_shape_R_A'] = zip(*df['LotShapeA'].map(lot_shape_convert))"
   ]
  },
  {
   "cell_type": "code",
   "execution_count": 27,
   "metadata": {},
   "outputs": [
    {
     "data": {
      "text/plain": [
       "(108000000, 46)"
      ]
     },
     "execution_count": 27,
     "metadata": {},
     "output_type": "execute_result"
    }
   ],
   "source": [
    "df.shape"
   ]
  },
  {
   "cell_type": "markdown",
   "metadata": {},
   "source": [
    "## x_col, y_col"
   ]
  },
  {
   "cell_type": "code",
   "execution_count": 15,
   "metadata": {},
   "outputs": [
    {
     "data": {
      "text/plain": [
       "Index(['Ha', 'pHa', 'La', 'LotNumA', 'LotShapeA', 'Hb', 'pHb', 'Lb', 'LotNumB',\n",
       "       'LotShapeB', 'Corr', 'Amb', 'GameId', 'B1', 'sigma', 'kapa', 'beta',\n",
       "       'gama', 'psi', 'theta', 'wamb', 'Beast1', 'diffEV', 'diffSDs',\n",
       "       'diffMins', 'diffMaxs', 'diffUV', 'RatioMin', 'SignMax',\n",
       "       'pBbet_Unbiased1', 'pBbet_UnbiasedFB', 'pBbet_Uniform', 'pBbet_Sign1',\n",
       "       'pBbet_SignFB', 'Dom', 'diffBEV0', 'diffBEVfb', 'diffSignEV',\n",
       "       'lot_shape__B', 'lot_shape_symm_B', 'lot_shape_L_B', 'lot_shape_R_B',\n",
       "       'lot_shape__A', 'lot_shape_symm_A', 'lot_shape_L_A', 'lot_shape_R_A'],\n",
       "      dtype='object')"
      ]
     },
     "execution_count": 15,
     "metadata": {},
     "output_type": "execute_result"
    }
   ],
   "source": [
    "df.columns"
   ]
  },
  {
   "cell_type": "code",
   "execution_count": 13,
   "metadata": {},
   "outputs": [],
   "source": [
    "col1 = [ 'Ha', 'pHa', 'La', 'LotNumA', 'lot_shape__A', 'lot_shape_symm_A', 'lot_shape_L_A', 'lot_shape_R_A',\n",
    "        'Hb', 'pHb', 'Lb', 'LotNumB', 'LotShapeB', 'lot_shape__B', 'lot_shape_symm_B', 'lot_shape_L_B', 'lot_shape_R_B',\n",
    "        'Corr', \n",
    "        'B1', \n",
    "        'Beast1',   \n",
    "        'diffEV', 'diffSDs', 'diffMins', 'diffMaxs', 'diffUV', 'RatioMin', 'SignMax',\n",
    "        'Dom', 'diffBEV0', 'diffBEVfb', 'diffSignEV']\n",
    "#         'Amb',\n",
    "#         'GameId',\n",
    "#         'psi', 'theta', 'wamb',\n",
    "#        'pBbet_Unbiased1', 'pBbet_UnbiasedFB', 'pBbet_Uniform', 'pBbet_Sign1', 'pBbet_SignFB',\n",
    "\n",
    "columns_20= []\n",
    "for i in range(1,21): \n",
    "    columns_20.extend([str(str(co) + '_'+ str(i)) for co in col1])\n"
   ]
  },
  {
   "cell_type": "code",
   "execution_count": 17,
   "metadata": {},
   "outputs": [
    {
     "data": {
      "text/plain": [
       "31"
      ]
     },
     "execution_count": 17,
     "metadata": {},
     "output_type": "execute_result"
    }
   ],
   "source": [
    "len(col1)"
   ]
  },
  {
   "cell_type": "code",
   "execution_count": 14,
   "metadata": {},
   "outputs": [],
   "source": [
    "x_col = columns_20\n",
    "y_col = ['sigma', 'kapa', 'beta', 'gama']"
   ]
  },
  {
   "cell_type": "code",
   "execution_count": 20,
   "metadata": {},
   "outputs": [
    {
     "data": {
      "text/plain": [
       "620"
      ]
     },
     "execution_count": 20,
     "metadata": {},
     "output_type": "execute_result"
    }
   ],
   "source": [
    "len(x_col)"
   ]
  },
  {
   "cell_type": "markdown",
   "metadata": {},
   "source": [
    "## Create dataframe _ multiprocess"
   ]
  },
  {
   "cell_type": "code",
   "execution_count": 26,
   "metadata": {},
   "outputs": [],
   "source": [
    "del PF_games"
   ]
  },
  {
   "cell_type": "code",
   "execution_count": 15,
   "metadata": {},
   "outputs": [
    {
     "data": {
      "text/plain": [
       "(108000000, 22)"
      ]
     },
     "execution_count": 15,
     "metadata": {},
     "output_type": "execute_result"
    }
   ],
   "source": [
    "df.shape"
   ]
  },
  {
   "cell_type": "code",
   "execution_count": 10,
   "metadata": {},
   "outputs": [],
   "source": [
    "def create_MLPdata(df, type_3, i): \n",
    "    df_all20 = pd.DataFrame(columns=x_col+y_col)\n",
    "    for indiv in type_3:\n",
    "        print(indiv)\n",
    "        sigma = indiv[0]\n",
    "        beta = indiv[1]\n",
    "        kapa =indiv[2]\n",
    "        gama = indiv[3]\n",
    "\n",
    "        df_indiv = df.loc[(df.sigma == sigma) & (df.beta == beta) & (df.kapa == kapa) & (df.gama == gama)]\n",
    "        print(df_indiv.shape[0])\n",
    "        num_g = 0\n",
    "        while df_indiv.shape[0] >= 20 : \n",
    "            df_20 = df_indiv.sample(20)\n",
    "            if df_20.GameId.nunique() == 20 : \n",
    "                num_g +=1\n",
    "                df_indiv = df_indiv.drop(df_20.index)\n",
    "                df_20 = df_20[col1]\n",
    "                new_row = list(np.reshape(df_20.values, (1,df_20.shape[0]*df_20.shape[1]))[0])\n",
    "                new_row.extend([sigma, kapa, beta, gama])\n",
    "                print(len(new_row))\n",
    "                df_all20.loc[df_all20.shape[0]] = new_row\n",
    "                print('num_g', num_g)\n",
    "    print(i)\n",
    "    print(df_all20.shape)\n",
    "    print(df_all20.head(5))\n",
    "\n",
    "    df_all20.to_csv(str('/home/meghanmergui/Synth20/Create_Synthetic_Games/Synth20MLP/synth_20MLP' + str(i) +str('.csv')))\n"
   ]
  },
  {
   "cell_type": "code",
   "execution_count": 11,
   "metadata": {
    "scrolled": true
   },
   "outputs": [
    {
     "name": "stderr",
     "output_type": "stream",
     "text": [
      "Process Process-1:\n",
      "Traceback (most recent call last):\n",
      "  File \"/home/meghanmergui@st.technion.ac.il/anaconda3/lib/python3.6/multiprocessing/process.py\", line 93, in run\n",
      "    self._target(*self._args, **self._kwargs)\n",
      "  File \"/home/meghanmergui@st.technion.ac.il/anaconda3/lib/python3.6/multiprocessing/process.py\", line 258, in _bootstrap\n",
      "    self.run()\n",
      "Process Process-2:\n",
      "Traceback (most recent call last):\n",
      "  File \"<ipython-input-10-f378273d3e64>\", line 2, in create_MLPdata\n",
      "    df_all20 = pd.DataFrame(columns=x_col+y_col)\n",
      "  File \"/home/meghanmergui@st.technion.ac.il/anaconda3/lib/python3.6/multiprocessing/process.py\", line 258, in _bootstrap\n",
      "    self.run()\n",
      "NameError: name 'x_col' is not defined\n",
      "  File \"/home/meghanmergui@st.technion.ac.il/anaconda3/lib/python3.6/multiprocessing/process.py\", line 93, in run\n",
      "    self._target(*self._args, **self._kwargs)\n",
      "Process Process-3:\n",
      "  File \"<ipython-input-10-f378273d3e64>\", line 2, in create_MLPdata\n",
      "    df_all20 = pd.DataFrame(columns=x_col+y_col)\n",
      "NameError: name 'x_col' is not defined\n",
      "Traceback (most recent call last):\n",
      "  File \"/home/meghanmergui@st.technion.ac.il/anaconda3/lib/python3.6/multiprocessing/process.py\", line 258, in _bootstrap\n",
      "    self.run()\n",
      "Process Process-4:\n",
      "  File \"/home/meghanmergui@st.technion.ac.il/anaconda3/lib/python3.6/multiprocessing/process.py\", line 93, in run\n",
      "    self._target(*self._args, **self._kwargs)\n",
      "Traceback (most recent call last):\n",
      "  File \"<ipython-input-10-f378273d3e64>\", line 2, in create_MLPdata\n",
      "    df_all20 = pd.DataFrame(columns=x_col+y_col)\n",
      "  File \"/home/meghanmergui@st.technion.ac.il/anaconda3/lib/python3.6/multiprocessing/process.py\", line 258, in _bootstrap\n",
      "    self.run()\n",
      "NameError: name 'x_col' is not defined\n",
      "Process Process-5:\n",
      "  File \"/home/meghanmergui@st.technion.ac.il/anaconda3/lib/python3.6/multiprocessing/process.py\", line 93, in run\n",
      "    self._target(*self._args, **self._kwargs)\n",
      "  File \"<ipython-input-10-f378273d3e64>\", line 2, in create_MLPdata\n",
      "    df_all20 = pd.DataFrame(columns=x_col+y_col)\n",
      "NameError: name 'x_col' is not defined\n",
      "Traceback (most recent call last):\n",
      "  File \"/home/meghanmergui@st.technion.ac.il/anaconda3/lib/python3.6/multiprocessing/process.py\", line 258, in _bootstrap\n",
      "    self.run()\n",
      "Process Process-6:\n",
      "  File \"/home/meghanmergui@st.technion.ac.il/anaconda3/lib/python3.6/multiprocessing/process.py\", line 93, in run\n",
      "    self._target(*self._args, **self._kwargs)\n",
      "  File \"<ipython-input-10-f378273d3e64>\", line 2, in create_MLPdata\n",
      "    df_all20 = pd.DataFrame(columns=x_col+y_col)\n",
      "Traceback (most recent call last):\n",
      "NameError: name 'x_col' is not defined\n",
      "  File \"/home/meghanmergui@st.technion.ac.il/anaconda3/lib/python3.6/multiprocessing/process.py\", line 258, in _bootstrap\n",
      "    self.run()\n",
      "Process Process-7:\n",
      "  File \"/home/meghanmergui@st.technion.ac.il/anaconda3/lib/python3.6/multiprocessing/process.py\", line 93, in run\n",
      "    self._target(*self._args, **self._kwargs)\n",
      "Traceback (most recent call last):\n",
      "  File \"<ipython-input-10-f378273d3e64>\", line 2, in create_MLPdata\n",
      "    df_all20 = pd.DataFrame(columns=x_col+y_col)\n",
      "  File \"/home/meghanmergui@st.technion.ac.il/anaconda3/lib/python3.6/multiprocessing/process.py\", line 258, in _bootstrap\n",
      "    self.run()\n",
      "NameError: name 'x_col' is not defined\n",
      "Process Process-8:\n",
      "  File \"/home/meghanmergui@st.technion.ac.il/anaconda3/lib/python3.6/multiprocessing/process.py\", line 93, in run\n",
      "    self._target(*self._args, **self._kwargs)\n",
      "  File \"<ipython-input-10-f378273d3e64>\", line 2, in create_MLPdata\n",
      "    df_all20 = pd.DataFrame(columns=x_col+y_col)\n",
      "NameError: name 'x_col' is not defined\n",
      "Traceback (most recent call last):\n",
      "  File \"/home/meghanmergui@st.technion.ac.il/anaconda3/lib/python3.6/multiprocessing/process.py\", line 258, in _bootstrap\n",
      "    self.run()\n",
      "Process Process-9:\n",
      "  File \"/home/meghanmergui@st.technion.ac.il/anaconda3/lib/python3.6/multiprocessing/process.py\", line 93, in run\n",
      "    self._target(*self._args, **self._kwargs)\n",
      "Traceback (most recent call last):\n",
      "  File \"<ipython-input-10-f378273d3e64>\", line 2, in create_MLPdata\n",
      "    df_all20 = pd.DataFrame(columns=x_col+y_col)\n",
      "  File \"/home/meghanmergui@st.technion.ac.il/anaconda3/lib/python3.6/multiprocessing/process.py\", line 258, in _bootstrap\n",
      "    self.run()\n",
      "NameError: name 'x_col' is not defined\n",
      "  File \"/home/meghanmergui@st.technion.ac.il/anaconda3/lib/python3.6/multiprocessing/process.py\", line 93, in run\n",
      "    self._target(*self._args, **self._kwargs)\n",
      "Process Process-10:\n",
      "  File \"<ipython-input-10-f378273d3e64>\", line 2, in create_MLPdata\n",
      "    df_all20 = pd.DataFrame(columns=x_col+y_col)\n",
      "NameError: name 'x_col' is not defined\n",
      "Traceback (most recent call last):\n",
      "  File \"/home/meghanmergui@st.technion.ac.il/anaconda3/lib/python3.6/multiprocessing/process.py\", line 258, in _bootstrap\n",
      "    self.run()\n",
      "  File \"/home/meghanmergui@st.technion.ac.il/anaconda3/lib/python3.6/multiprocessing/process.py\", line 93, in run\n",
      "    self._target(*self._args, **self._kwargs)\n",
      "  File \"<ipython-input-10-f378273d3e64>\", line 2, in create_MLPdata\n",
      "    df_all20 = pd.DataFrame(columns=x_col+y_col)\n",
      "NameError: name 'x_col' is not defined\n",
      "Process Process-11:\n",
      "Process Process-12:\n",
      "Process Process-13:\n",
      "Traceback (most recent call last):\n",
      "Traceback (most recent call last):\n",
      "Traceback (most recent call last):\n",
      "  File \"/home/meghanmergui@st.technion.ac.il/anaconda3/lib/python3.6/multiprocessing/process.py\", line 258, in _bootstrap\n",
      "    self.run()\n",
      "  File \"/home/meghanmergui@st.technion.ac.il/anaconda3/lib/python3.6/multiprocessing/process.py\", line 258, in _bootstrap\n",
      "    self.run()\n",
      "  File \"/home/meghanmergui@st.technion.ac.il/anaconda3/lib/python3.6/multiprocessing/process.py\", line 258, in _bootstrap\n",
      "    self.run()\n",
      "  File \"/home/meghanmergui@st.technion.ac.il/anaconda3/lib/python3.6/multiprocessing/process.py\", line 93, in run\n",
      "    self._target(*self._args, **self._kwargs)\n",
      "  File \"/home/meghanmergui@st.technion.ac.il/anaconda3/lib/python3.6/multiprocessing/process.py\", line 93, in run\n",
      "    self._target(*self._args, **self._kwargs)\n",
      "  File \"/home/meghanmergui@st.technion.ac.il/anaconda3/lib/python3.6/multiprocessing/process.py\", line 93, in run\n",
      "    self._target(*self._args, **self._kwargs)\n",
      "Process Process-14:\n",
      "  File \"<ipython-input-10-f378273d3e64>\", line 2, in create_MLPdata\n",
      "    df_all20 = pd.DataFrame(columns=x_col+y_col)\n",
      "  File \"<ipython-input-10-f378273d3e64>\", line 2, in create_MLPdata\n",
      "    df_all20 = pd.DataFrame(columns=x_col+y_col)\n",
      "  File \"<ipython-input-10-f378273d3e64>\", line 2, in create_MLPdata\n",
      "    df_all20 = pd.DataFrame(columns=x_col+y_col)\n",
      "Traceback (most recent call last):\n",
      "NameError: name 'x_col' is not defined\n",
      "NameError: name 'x_col' is not defined\n",
      "NameError: name 'x_col' is not defined\n",
      "  File \"/home/meghanmergui@st.technion.ac.il/anaconda3/lib/python3.6/multiprocessing/process.py\", line 258, in _bootstrap\n",
      "    self.run()\n",
      "Process Process-15:\n",
      "  File \"/home/meghanmergui@st.technion.ac.il/anaconda3/lib/python3.6/multiprocessing/process.py\", line 93, in run\n",
      "    self._target(*self._args, **self._kwargs)\n",
      "  File \"<ipython-input-10-f378273d3e64>\", line 2, in create_MLPdata\n",
      "    df_all20 = pd.DataFrame(columns=x_col+y_col)\n",
      "Traceback (most recent call last):\n",
      "NameError: name 'x_col' is not defined\n",
      "  File \"/home/meghanmergui@st.technion.ac.il/anaconda3/lib/python3.6/multiprocessing/process.py\", line 258, in _bootstrap\n",
      "    self.run()\n",
      "  File \"/home/meghanmergui@st.technion.ac.il/anaconda3/lib/python3.6/multiprocessing/process.py\", line 93, in run\n",
      "    self._target(*self._args, **self._kwargs)\n",
      "  File \"<ipython-input-10-f378273d3e64>\", line 2, in create_MLPdata\n",
      "    df_all20 = pd.DataFrame(columns=x_col+y_col)\n",
      "NameError: name 'x_col' is not defined\n",
      "Process Process-16:\n",
      "Traceback (most recent call last):\n",
      "  File \"/home/meghanmergui@st.technion.ac.il/anaconda3/lib/python3.6/multiprocessing/process.py\", line 258, in _bootstrap\n",
      "    self.run()\n",
      "  File \"/home/meghanmergui@st.technion.ac.il/anaconda3/lib/python3.6/multiprocessing/process.py\", line 93, in run\n",
      "    self._target(*self._args, **self._kwargs)\n",
      "  File \"<ipython-input-10-f378273d3e64>\", line 2, in create_MLPdata\n",
      "    df_all20 = pd.DataFrame(columns=x_col+y_col)\n",
      "Process Process-17:\n",
      "NameError: name 'x_col' is not defined\n",
      "Traceback (most recent call last):\n",
      "  File \"/home/meghanmergui@st.technion.ac.il/anaconda3/lib/python3.6/multiprocessing/process.py\", line 258, in _bootstrap\n",
      "    self.run()\n"
     ]
    },
    {
     "name": "stderr",
     "output_type": "stream",
     "text": [
      "  File \"/home/meghanmergui@st.technion.ac.il/anaconda3/lib/python3.6/multiprocessing/process.py\", line 93, in run\n",
      "    self._target(*self._args, **self._kwargs)\n",
      "  File \"<ipython-input-10-f378273d3e64>\", line 2, in create_MLPdata\n",
      "    df_all20 = pd.DataFrame(columns=x_col+y_col)\n",
      "Process Process-18:\n",
      "NameError: name 'x_col' is not defined\n",
      "Traceback (most recent call last):\n",
      "  File \"/home/meghanmergui@st.technion.ac.il/anaconda3/lib/python3.6/multiprocessing/process.py\", line 258, in _bootstrap\n",
      "    self.run()\n",
      "  File \"/home/meghanmergui@st.technion.ac.il/anaconda3/lib/python3.6/multiprocessing/process.py\", line 93, in run\n",
      "    self._target(*self._args, **self._kwargs)\n",
      "  File \"<ipython-input-10-f378273d3e64>\", line 2, in create_MLPdata\n",
      "    df_all20 = pd.DataFrame(columns=x_col+y_col)\n",
      "NameError: name 'x_col' is not defined\n"
     ]
    }
   ],
   "source": [
    "import multiprocessing \n",
    "processes = []\n",
    "all_type = list(indiv_games['GameId'].keys())\n",
    "for i in range(0,18):\n",
    "        type_3i = all_type[i*3:(i+1)*3]\n",
    "        p = multiprocessing.Process(target=create_MLPdata, args=(df, type_3i, i))\n",
    "        processes.append(p)\n",
    "        p.start()\n",
    "        \n",
    "for process in processes:\n",
    "    process.join()    \n"
   ]
  },
  {
   "cell_type": "markdown",
   "metadata": {},
   "source": [
    "# Save Dataframe "
   ]
  },
  {
   "cell_type": "code",
   "execution_count": null,
   "metadata": {},
   "outputs": [],
   "source": [
    "df_all.head()"
   ]
  },
  {
   "cell_type": "code",
   "execution_count": null,
   "metadata": {},
   "outputs": [],
   "source": [
    "df_all20.shape"
   ]
  },
  {
   "cell_type": "code",
   "execution_count": null,
   "metadata": {},
   "outputs": [],
   "source": [
    "df_all20.to_csv('/home/meghanmergui/Synth20/Create_Synthetic_Games/synth_20MLP.csv', index = False)"
   ]
  },
  {
   "cell_type": "markdown",
   "metadata": {},
   "source": [
    "# Create Train and Test"
   ]
  },
  {
   "cell_type": "code",
   "execution_count": null,
   "metadata": {},
   "outputs": [],
   "source": [
    "# Split train and test set \n",
    "df_train, df_test = train_test_split(df_all20, test_size=0.01)"
   ]
  },
  {
   "cell_type": "code",
   "execution_count": null,
   "metadata": {},
   "outputs": [],
   "source": [
    "df_train.to_csv('/home/meghanmergui/Synth20/Create_Synthetic_Games/synth_train_20MLP.csv', index = False)"
   ]
  },
  {
   "cell_type": "code",
   "execution_count": null,
   "metadata": {},
   "outputs": [],
   "source": [
    "df_test.to_csv('/home/meghanmergui/Synth20/Create_Synthetic_Games/synth_test_20MLP.csv', index = False)"
   ]
  },
  {
   "cell_type": "code",
   "execution_count": 2,
   "metadata": {},
   "outputs": [
    {
     "ename": "NameError",
     "evalue": "name 'df_all20' is not defined",
     "output_type": "error",
     "traceback": [
      "\u001b[0;31m---------------------------------------------------------------------------\u001b[0m",
      "\u001b[0;31mNameError\u001b[0m                                 Traceback (most recent call last)",
      "\u001b[0;32m<ipython-input-2-b0dab1b4ea68>\u001b[0m in \u001b[0;36m<module>\u001b[0;34m\u001b[0m\n\u001b[0;32m----> 1\u001b[0;31m \u001b[0mdf_all20\u001b[0m\u001b[0;34m.\u001b[0m\u001b[0mshape\u001b[0m\u001b[0;34m\u001b[0m\u001b[0m\n\u001b[0m",
      "\u001b[0;31mNameError\u001b[0m: name 'df_all20' is not defined"
     ]
    }
   ],
   "source": [
    "df_all20.shape"
   ]
  }
 ],
 "metadata": {
  "kernelspec": {
   "display_name": "Python 3",
   "language": "python",
   "name": "python3"
  },
  "language_info": {
   "codemirror_mode": {
    "name": "ipython",
    "version": 3
   },
   "file_extension": ".py",
   "mimetype": "text/x-python",
   "name": "python",
   "nbconvert_exporter": "python",
   "pygments_lexer": "ipython3",
   "version": "3.6.9"
  },
  "toc": {
   "base_numbering": 1,
   "nav_menu": {},
   "number_sections": true,
   "sideBar": true,
   "skip_h1_title": false,
   "title_cell": "Table of Contents",
   "title_sidebar": "Contents",
   "toc_cell": false,
   "toc_position": {},
   "toc_section_display": true,
   "toc_window_display": true
  }
 },
 "nbformat": 4,
 "nbformat_minor": 2
}
