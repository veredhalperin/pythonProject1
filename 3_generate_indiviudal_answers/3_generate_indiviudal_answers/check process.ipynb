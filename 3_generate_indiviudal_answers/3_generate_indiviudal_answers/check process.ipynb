{
 "cells": [
  {
   "cell_type": "code",
   "execution_count": 258,
   "metadata": {},
   "outputs": [],
   "source": [
    "import os\n",
    "import logging\n",
    "#os.chdir('---')\n",
    "#####################################################################################\n",
    "### Section A: Please change this section to import necessary files and packages ###\n",
    "#####################################################################################\n",
    "import pandas as pd\n",
    "import numpy as np\n",
    "import time\n",
    "from CPC15_BEASTpred import CPC15_BEAST_individual_pred\n",
    "\n",
    "import time\n",
    "import multiprocessing \n",
    "\n",
    "\n",
    "import numpy as np\n",
    "from CPC18_getDist import CPC18_getDist\n",
    "from CPC15_BEASTsimulation import CPC15_BEASTsimulation\n",
    "import os\n",
    "import logging\n",
    "import time\n",
    "\n",
    "import numpy as np\n",
    "from CPC15_isStochasticDom import CPC15_isStochasticDom\n",
    "from distSample import distSample\n",
    "\n",
    "import numpy as np\n",
    "from CPC15_isStochasticDom import CPC15_isStochasticDom\n",
    "from distSample import distSample"
   ]
  },
  {
   "cell_type": "code",
   "execution_count": 15,
   "metadata": {},
   "outputs": [],
   "source": [
    "Data = pd.read_csv('/home/meghanmergui/Synth20/Create_Synthetic_Games/1_games_10K/Synth10K2.csv')"
   ]
  },
  {
   "cell_type": "code",
   "execution_count": 16,
   "metadata": {},
   "outputs": [],
   "source": [
    "Data['GameId'] = range(1, len(Data) + 1)\n"
   ]
  },
  {
   "cell_type": "code",
   "execution_count": 68,
   "metadata": {},
   "outputs": [],
   "source": [
    "Data['B1'] = 0\n",
    "    \n",
    "Data['sigma'] = 0\n",
    "Data['kapa'] = 0\n",
    "Data['beta']= 0 \n",
    "Data['gama'] = 0 \n",
    "Data['psi'] = 0\n",
    "Data['theta'] = 0\n",
    "Data['wamb'] = 0\n",
    "\n",
    "Data['Beast1'] = 0\n"
   ]
  },
  {
   "cell_type": "code",
   "execution_count": 17,
   "metadata": {},
   "outputs": [],
   "source": [
    "# Total number of Problem_individual to predict\n",
    "nProblems = Data['GameId'].unique()\n",
    "### End of Section A ###"
   ]
  },
  {
   "cell_type": "code",
   "execution_count": 19,
   "metadata": {},
   "outputs": [
    {
     "data": {
      "text/plain": [
       "500"
      ]
     },
     "execution_count": 19,
     "metadata": {},
     "output_type": "execute_result"
    }
   ],
   "source": [
    "i = 1\n",
    "nProblems_i = nProblems[i*500 : 500*(i+1)]\n",
    "len(nProblems_i)"
   ]
  },
  {
   "cell_type": "code",
   "execution_count": 71,
   "metadata": {},
   "outputs": [],
   "source": [
    "game = nProblems_i[200]\n",
    "# read problem's parameters\n",
    "Ha = Data.loc[Data.GameId == game, 'Ha'].values[0]\n",
    "pHa = Data.loc[Data.GameId == game, 'pHa'].values[0]\n",
    "La = Data.loc[Data.GameId == game, 'La'].values[0]\n",
    "LotShapeA = Data.loc[Data.GameId == game, 'LotShapeA'].values[0]\n",
    "LotNumA = Data.loc[Data.GameId == game, 'LotNumA'].values[0]\n",
    "Hb = Data.loc[Data.GameId == game, 'Hb'].values[0]\n",
    "pHb = Data.loc[Data.GameId == game]['pHb'].values[0]\n",
    "Lb = Data.loc[Data.GameId == game]['Lb'].values[0]\n",
    "LotShapeB = Data.loc[Data.GameId == game]['LotShapeB'].values[0]\n",
    "LotNumB = Data.loc[Data.GameId == game]['LotNumB'].values[0]\n",
    "Amb = Data.loc[Data.GameId == game]['Amb'].values[0]\n",
    "Corr = Data.loc[Data.GameId == game]['Corr'].values[0]"
   ]
  },
  {
   "cell_type": "code",
   "execution_count": 33,
   "metadata": {},
   "outputs": [],
   "source": [
    "# Pred\n",
    "\n",
    "# get both options' distributions\n",
    "DistA = CPC18_getDist(Ha, pHa, La, LotShapeA, LotNumA)\n",
    "DistB = CPC18_getDist(Hb, pHb, Lb, LotShapeB, LotNumB)\n"
   ]
  },
  {
   "cell_type": "code",
   "execution_count": 34,
   "metadata": {},
   "outputs": [
    {
     "name": "stdout",
     "output_type": "stream",
     "text": [
      "54\n"
     ]
    }
   ],
   "source": [
    "p = 0\n",
    "for sigma in [float(round(0.5*7/3,2)), float(round(1.5*7/3,2)), float(round(2.5*7/3,2))]:\n",
    "        for beta in [float(round(0.5*2.6/3,2)), float(round(1.5*2.6/3, 2)), float(round(2.5*2.6/3, 2))] : \n",
    "            for kapa in [1,2,3] : \n",
    "                for gama in [float(round(0.5*3,2)), float(round(2*0.5/3,2))] :\n",
    "                    p = p+1\n",
    "print(p)"
   ]
  },
  {
   "cell_type": "code",
   "execution_count": 35,
   "metadata": {},
   "outputs": [],
   "source": [
    "sigma=[float(round(0.5*7/3,2)), float(round(1.5*7/3,2)), float(round(2.5*7/3,2))][0]\n",
    "beta= [float(round(0.5*2.6/3,2)), float(round(1.5*2.6/3, 2)), float(round(2.5*2.6/3, 2))][0] \n",
    "kapa =[1,2,3][0]\n",
    "gama= [float(round(0.5*3,2)), float(round(2*0.5/3,2))] [0]"
   ]
  },
  {
   "cell_type": "code",
   "execution_count": 36,
   "metadata": {},
   "outputs": [],
   "source": [
    "# Simulation \n",
    "SIGMA = 7\n",
    "KAPA = 3\n",
    "BETA = 2.6\n",
    "GAMA = 0.5\n",
    "PSI = 0.07\n",
    "THETA = 1\n",
    "\n",
    "nTrials = 5\n",
    "firstFeedback = 6\n",
    "nBlocks = 1\n",
    "\n",
    "# draw personal traits\n",
    "#     sigma = SIGMA * np.random.uniform(size=1)\n",
    "#     kapa = np.random.choice(range(1, KAPA+1), 1)\n",
    "#     beta = BETA * np.random.uniform(size=1)\n",
    "#     gama = GAMA * np.random.uniform(size=1)\n",
    "psi = PSI * np.random.uniform(size=1)\n",
    "theta = THETA * np.random.uniform(size=1)\n",
    "wamb = 0\n",
    "\n",
    "ObsPay = np.zeros(shape=(nTrials - firstFeedback + 1, 2))  # observed outcomes in A (col1) and B (col2)\n",
    "\n",
    "# Useful variables\n",
    "nA = DistA.shape[0]  # num outcomes in A\n",
    "nB = DistB.shape[0]  # num outcomes in B\n",
    "\n",
    "ambiguous = False\n",
    "\n",
    "nfeed = 0  # \"t\"; number of outcomes with feedback so far\n",
    "\n",
    "MinA = DistA[0, 0]\n",
    "MinB = DistB[0, 0]\n",
    "MaxOutcome = np.maximum(DistA[nA - 1, 0], DistB[nB - 1, 0])\n",
    "SignMax = np.sign(MaxOutcome)\n",
    "\n",
    "if MinA == MinB:\n",
    "    RatioMin = 1\n",
    "elif np.sign(MinA) == np.sign(MinB):\n",
    "    RatioMin = min(abs(MinA), abs(MinB)) / max(abs(MinA), abs(MinB))\n",
    "else:\n",
    "    RatioMin = 0\n",
    "\n",
    "Range = MaxOutcome - min(MinA, MinB)\n",
    "BEVa = np.matrix.dot(DistA[:, 0], DistA[:, 1])\n",
    "\n",
    "pEstB = DistB[:, 1]\n",
    "BEVb = np.matrix.dot(DistB[:, 0], pEstB)\n",
    "\n",
    "return_all =[]\n",
    "\n",
    "for sigma in [float(round(0.5*7/3,2)), float(round(1.5*7/3,2)), float(round(2.5*7/3,2))]:\n",
    "    for beta in [float(round(0.5*2.6/3,2)), float(round(1.5*2.6/3, 2)), float(round(2.5*2.6/3, 2))] : \n",
    "        for kapa in [1,2,3] : \n",
    "            for gama in [float(round(0.5*3,2)), float(round(2*0.5/3,2))] : \n",
    "                Decision = np.empty(shape=(nTrials, 1))\n",
    "#                     simPred = np.empty(shape=(nBlocks, 1))\n",
    "\n",
    "                pBias = np.array([beta / (beta + 1 + pow(nfeed, theta))])\n",
    "\n",
    "                trivial = CPC15_isStochasticDom(DistA, DistB)\n",
    "\n",
    "                # simulation of decisions\n",
    "                for trial in range(nTrials):\n",
    "                    STa = 0\n",
    "                    STb = 0\n",
    "                    # mental simulations\n",
    "                    for s in range(1, kapa+1):\n",
    "                        rndNum = np.random.uniform(size=2)\n",
    "                        if rndNum[0] > pBias[nfeed]:  # Unbiased technique\n",
    "                            if nfeed == 0:\n",
    "                                outcomeA = distSample(DistA[:, 0], DistA[:, 1], rndNum[1])\n",
    "                                outcomeB = distSample(DistB[:, 0], pEstB, rndNum[1])\n",
    "                            else:\n",
    "                                uniprobs = np.repeat([1 / nfeed], nfeed)\n",
    "                                outcomeA = distSample(ObsPay[0:nfeed, 0], uniprobs, rndNum[1])\n",
    "                                outcomeB = distSample(ObsPay[0:nfeed, 1], uniprobs, rndNum[1])\n",
    "\n",
    "                        elif rndNum[0] > (2 / 3) * pBias[nfeed]:  # uniform\n",
    "                            outcomeA = distSample(DistA[:, 0], np.repeat([1 / nA], nA), rndNum[1])\n",
    "                            outcomeB = distSample(DistB[:, 0], np.repeat([1 / nB], nB), rndNum[1])\n",
    "\n",
    "                        elif rndNum[0] > (1 / 3) * pBias[nfeed]:  # contingent pessimism\n",
    "                            if SignMax > 0 and RatioMin < gama:\n",
    "                                outcomeA = MinA\n",
    "                                outcomeB = MinB\n",
    "                            else:\n",
    "                                outcomeA = distSample(DistA[:, 0], np.repeat([1 / nA], nA), rndNum[1])\n",
    "                                outcomeB = distSample(DistB[:, 0], np.repeat([1 / nB], nB), rndNum[1])\n",
    "\n",
    "                        else:  # Sign\n",
    "                            if nfeed == 0:\n",
    "                                outcomeA = Range * distSample(np.sign(DistA[:, 0]), DistA[:, 1], rndNum[1])\n",
    "                                outcomeB = Range * distSample(np.sign(DistB[:, 0]), pEstB, rndNum[1])\n",
    "                            else:\n",
    "                                uniprobs = np.repeat([1 / nfeed], nfeed)\n",
    "                                outcomeA = Range * distSample(np.sign(ObsPay[0:nfeed, 0]), uniprobs, rndNum[1])\n",
    "                                outcomeB = Range * distSample(np.sign(ObsPay[0:nfeed, 1]), uniprobs, rndNum[1])\n",
    "\n",
    "                        STa = STa + outcomeA\n",
    "                        STb = STb + outcomeB\n",
    "\n",
    "                    STa = STa / kapa\n",
    "                    STb = STb / kapa\n",
    "\n",
    "                    # error term\n",
    "                    if trivial['dom'][0]:\n",
    "                        error = 0\n",
    "                    else:\n",
    "                        error = sigma * np.random.normal(size=1)  # positive values contribute to attraction to A\n",
    "\n",
    "                    # decision\n",
    "                    Decision[trial] = (BEVa - BEVb) + (STa - STb) + error < 0\n",
    "                    if (BEVa - BEVb) + (STa - STb) + error == 0:\n",
    "                        Decision[trial] = np.random.choice(range(1, 3), size=1, replace=False) - 1\n",
    "\n",
    "                # compute B-rates for this simulation\n",
    "\n",
    "                simPred = np.mean(Decision[0:5])\n",
    "\n",
    "                return_all.append([simPred, sigma, kapa, beta, gama, psi, theta, wamb] )\n",
    "\n"
   ]
  },
  {
   "cell_type": "code",
   "execution_count": 37,
   "metadata": {},
   "outputs": [
    {
     "data": {
      "text/plain": [
       "54"
      ]
     },
     "execution_count": 37,
     "metadata": {},
     "output_type": "execute_result"
    }
   ],
   "source": [
    "len(return_all)"
   ]
  },
  {
   "cell_type": "code",
   "execution_count": 38,
   "metadata": {},
   "outputs": [],
   "source": [
    "simPred = return_all"
   ]
  },
  {
   "cell_type": "code",
   "execution_count": 39,
   "metadata": {},
   "outputs": [
    {
     "data": {
      "text/plain": [
       "[0.6, 1.17, 1, 0.43, 1.5, array([0.00741862]), array([0.09125924]), 0]"
      ]
     },
     "execution_count": 39,
     "metadata": {},
     "output_type": "execute_result"
    }
   ],
   "source": [
    "simPred[0]"
   ]
  },
  {
   "cell_type": "code",
   "execution_count": 16,
   "metadata": {},
   "outputs": [],
   "source": [
    "avg_Prediction = np.repeat([0], 1) # change 5 to 1 => only 1 block \n",
    "avg_Prediction.shape = (1, 1) # change 5 to 1 => only 1 block \n",
    "\n"
   ]
  },
  {
   "cell_type": "code",
   "execution_count": 40,
   "metadata": {},
   "outputs": [],
   "source": [
    "avg_Prediction = np.repeat([0], 1) # change 5 to 1 => only 1 block \n",
    "avg_Prediction.shape = (1, 1) # change 5 to 1 => only 1 block \n",
    "\n",
    "all_Prediction = [[]]*200*54  # change 5 to 1 => only 1 block \n",
    "\n",
    "# get both options' distributions\n",
    "DistA = CPC18_getDist(Ha, pHa, La, LotShapeA, LotNumA)\n",
    "DistB = CPC18_getDist(Hb, pHb, Lb, LotShapeB, LotNumB)\n",
    "\n",
    "# run model simulation nSims times\n",
    "nSims = 200\n",
    "for sim in range(0, nSims):\n",
    "    if sim % 20 == 0 : \n",
    "        logging.info('{}: Finish sim number : {}'.format((time.asctime(time.localtime(time.time()))), sim))\n",
    "    simPred = CPC15_BEASTsimulation(DistA, DistB, Amb, Corr)\n",
    "    for t in range(54) :\n",
    "        avg_Prediction = np.add(avg_Prediction, (1 / (nSims*54)) * simPred[t][0])\n",
    "        simPred[t][0] = round((simPred[t][0])*5)/5\n",
    "        all_Prediction[sim*54 +t] = simPred[t]\n"
   ]
  },
  {
   "cell_type": "code",
   "execution_count": 41,
   "metadata": {},
   "outputs": [
    {
     "data": {
      "text/plain": [
       "array([[0.44457407]])"
      ]
     },
     "execution_count": 41,
     "metadata": {},
     "output_type": "execute_result"
    }
   ],
   "source": [
    "avg_Prediction_Prediction"
   ]
  },
  {
   "cell_type": "code",
   "execution_count": 42,
   "metadata": {},
   "outputs": [
    {
     "data": {
      "text/plain": [
       "10800"
      ]
     },
     "execution_count": 42,
     "metadata": {},
     "output_type": "execute_result"
    }
   ],
   "source": [
    "len(all_Prediction)"
   ]
  },
  {
   "cell_type": "code",
   "execution_count": 43,
   "metadata": {},
   "outputs": [
    {
     "data": {
      "text/plain": [
       "8"
      ]
     },
     "execution_count": 43,
     "metadata": {},
     "output_type": "execute_result"
    }
   ],
   "source": [
    "len(all_Prediction[300])"
   ]
  },
  {
   "cell_type": "code",
   "execution_count": 44,
   "metadata": {},
   "outputs": [],
   "source": [
    "preddf = pd.DataFrame.from_records(all_Prediction)"
   ]
  },
  {
   "cell_type": "code",
   "execution_count": 45,
   "metadata": {},
   "outputs": [
    {
     "data": {
      "text/plain": [
       "(10800, 8)"
      ]
     },
     "execution_count": 45,
     "metadata": {},
     "output_type": "execute_result"
    }
   ],
   "source": [
    "preddf.shape"
   ]
  },
  {
   "cell_type": "code",
   "execution_count": 46,
   "metadata": {},
   "outputs": [
    {
     "data": {
      "text/html": [
       "<div>\n",
       "<style scoped>\n",
       "    .dataframe tbody tr th:only-of-type {\n",
       "        vertical-align: middle;\n",
       "    }\n",
       "\n",
       "    .dataframe tbody tr th {\n",
       "        vertical-align: top;\n",
       "    }\n",
       "\n",
       "    .dataframe thead th {\n",
       "        text-align: right;\n",
       "    }\n",
       "</style>\n",
       "<table border=\"1\" class=\"dataframe\">\n",
       "  <thead>\n",
       "    <tr style=\"text-align: right;\">\n",
       "      <th></th>\n",
       "      <th>0</th>\n",
       "      <th>1</th>\n",
       "      <th>2</th>\n",
       "      <th>3</th>\n",
       "      <th>4</th>\n",
       "      <th>5</th>\n",
       "      <th>6</th>\n",
       "      <th>7</th>\n",
       "    </tr>\n",
       "  </thead>\n",
       "  <tbody>\n",
       "    <tr>\n",
       "      <th>0</th>\n",
       "      <td>0.6</td>\n",
       "      <td>1.17</td>\n",
       "      <td>1</td>\n",
       "      <td>0.43</td>\n",
       "      <td>1.50</td>\n",
       "      <td>[0.008772935466397108]</td>\n",
       "      <td>[0.22643040015013538]</td>\n",
       "      <td>0</td>\n",
       "    </tr>\n",
       "    <tr>\n",
       "      <th>1</th>\n",
       "      <td>0.4</td>\n",
       "      <td>1.17</td>\n",
       "      <td>1</td>\n",
       "      <td>0.43</td>\n",
       "      <td>0.33</td>\n",
       "      <td>[0.008772935466397108]</td>\n",
       "      <td>[0.22643040015013538]</td>\n",
       "      <td>0</td>\n",
       "    </tr>\n",
       "    <tr>\n",
       "      <th>2</th>\n",
       "      <td>0.4</td>\n",
       "      <td>1.17</td>\n",
       "      <td>2</td>\n",
       "      <td>0.43</td>\n",
       "      <td>1.50</td>\n",
       "      <td>[0.008772935466397108]</td>\n",
       "      <td>[0.22643040015013538]</td>\n",
       "      <td>0</td>\n",
       "    </tr>\n",
       "    <tr>\n",
       "      <th>3</th>\n",
       "      <td>0.8</td>\n",
       "      <td>1.17</td>\n",
       "      <td>2</td>\n",
       "      <td>0.43</td>\n",
       "      <td>0.33</td>\n",
       "      <td>[0.008772935466397108]</td>\n",
       "      <td>[0.22643040015013538]</td>\n",
       "      <td>0</td>\n",
       "    </tr>\n",
       "    <tr>\n",
       "      <th>4</th>\n",
       "      <td>0.4</td>\n",
       "      <td>1.17</td>\n",
       "      <td>3</td>\n",
       "      <td>0.43</td>\n",
       "      <td>1.50</td>\n",
       "      <td>[0.008772935466397108]</td>\n",
       "      <td>[0.22643040015013538]</td>\n",
       "      <td>0</td>\n",
       "    </tr>\n",
       "  </tbody>\n",
       "</table>\n",
       "</div>"
      ],
      "text/plain": [
       "     0     1  2     3     4                       5                      6  7\n",
       "0  0.6  1.17  1  0.43  1.50  [0.008772935466397108]  [0.22643040015013538]  0\n",
       "1  0.4  1.17  1  0.43  0.33  [0.008772935466397108]  [0.22643040015013538]  0\n",
       "2  0.4  1.17  2  0.43  1.50  [0.008772935466397108]  [0.22643040015013538]  0\n",
       "3  0.8  1.17  2  0.43  0.33  [0.008772935466397108]  [0.22643040015013538]  0\n",
       "4  0.4  1.17  3  0.43  1.50  [0.008772935466397108]  [0.22643040015013538]  0"
      ]
     },
     "execution_count": 46,
     "metadata": {},
     "output_type": "execute_result"
    }
   ],
   "source": [
    "preddf.head()"
   ]
  },
  {
   "cell_type": "code",
   "execution_count": 47,
   "metadata": {},
   "outputs": [],
   "source": [
    "preddf.columns = ['B1', 'sigma', 'kapa', 'beta', 'gama', 'psi', 'theta', 'wamb']"
   ]
  },
  {
   "cell_type": "code",
   "execution_count": 48,
   "metadata": {},
   "outputs": [
    {
     "data": {
      "text/plain": [
       "0.4445740740740635"
      ]
     },
     "execution_count": 48,
     "metadata": {},
     "output_type": "execute_result"
    }
   ],
   "source": [
    "np.mean(preddf.B1)"
   ]
  },
  {
   "cell_type": "code",
   "execution_count": 49,
   "metadata": {},
   "outputs": [
    {
     "data": {
      "text/plain": [
       "0.4    3574\n",
       "0.6    2827\n",
       "0.2    2321\n",
       "0.8    1198\n",
       "0.0     627\n",
       "1.0     253\n",
       "Name: B1, dtype: int64"
      ]
     },
     "execution_count": 49,
     "metadata": {},
     "output_type": "execute_result"
    }
   ],
   "source": [
    "preddf.B1.value_counts()"
   ]
  },
  {
   "cell_type": "code",
   "execution_count": 50,
   "metadata": {},
   "outputs": [
    {
     "data": {
      "text/plain": [
       "1.17    3600\n",
       "5.83    3600\n",
       "3.50    3600\n",
       "Name: sigma, dtype: int64"
      ]
     },
     "execution_count": 50,
     "metadata": {},
     "output_type": "execute_result"
    }
   ],
   "source": [
    "preddf.sigma.value_counts()"
   ]
  },
  {
   "cell_type": "code",
   "execution_count": 51,
   "metadata": {},
   "outputs": [
    {
     "data": {
      "text/plain": [
       "(1, 8)"
      ]
     },
     "execution_count": 51,
     "metadata": {},
     "output_type": "execute_result"
    }
   ],
   "source": [
    "Data.loc[(Data['GameId'] == game), ['B1', 'sigma', 'kapa', 'beta', 'gama', 'psi', 'theta', 'wamb']].shape"
   ]
  },
  {
   "cell_type": "code",
   "execution_count": 52,
   "metadata": {},
   "outputs": [
    {
     "data": {
      "text/plain": [
       "(10800, 22)"
      ]
     },
     "execution_count": 52,
     "metadata": {},
     "output_type": "execute_result"
    }
   ],
   "source": [
    "rep_prob.shape"
   ]
  },
  {
   "cell_type": "code",
   "execution_count": 54,
   "metadata": {},
   "outputs": [
    {
     "name": "stdout",
     "output_type": "stream",
     "text": [
      "Index(['Ha', 'pHa', 'La', 'LotNumA', 'LotShapeA', 'Hb', 'pHb', 'Lb', 'LotNumB',\n",
      "       'LotShapeB', 'Corr', 'Amb', 'GameId', 'B1', 'sigma', 'kapa', 'beta',\n",
      "       'gama', 'psi', 'theta', 'wamb', 'Beast1'],\n",
      "      dtype='object')\n"
     ]
    }
   ],
   "source": [
    "Data2 = Data\n",
    "print(Data.columns)"
   ]
  },
  {
   "cell_type": "code",
   "execution_count": 55,
   "metadata": {},
   "outputs": [
    {
     "data": {
      "text/html": [
       "<div>\n",
       "<style scoped>\n",
       "    .dataframe tbody tr th:only-of-type {\n",
       "        vertical-align: middle;\n",
       "    }\n",
       "\n",
       "    .dataframe tbody tr th {\n",
       "        vertical-align: top;\n",
       "    }\n",
       "\n",
       "    .dataframe thead th {\n",
       "        text-align: right;\n",
       "    }\n",
       "</style>\n",
       "<table border=\"1\" class=\"dataframe\">\n",
       "  <thead>\n",
       "    <tr style=\"text-align: right;\">\n",
       "      <th></th>\n",
       "      <th>Ha</th>\n",
       "      <th>pHa</th>\n",
       "      <th>La</th>\n",
       "      <th>LotNumA</th>\n",
       "      <th>LotShapeA</th>\n",
       "      <th>Hb</th>\n",
       "      <th>pHb</th>\n",
       "      <th>Lb</th>\n",
       "      <th>LotNumB</th>\n",
       "      <th>LotShapeB</th>\n",
       "      <th>...</th>\n",
       "      <th>GameId</th>\n",
       "      <th>B1</th>\n",
       "      <th>sigma</th>\n",
       "      <th>kapa</th>\n",
       "      <th>beta</th>\n",
       "      <th>gama</th>\n",
       "      <th>psi</th>\n",
       "      <th>theta</th>\n",
       "      <th>wamb</th>\n",
       "      <th>Beast1</th>\n",
       "    </tr>\n",
       "  </thead>\n",
       "  <tbody>\n",
       "    <tr>\n",
       "      <th>0</th>\n",
       "      <td>53</td>\n",
       "      <td>0.25</td>\n",
       "      <td>-20</td>\n",
       "      <td>1</td>\n",
       "      <td>-</td>\n",
       "      <td>86</td>\n",
       "      <td>0.25</td>\n",
       "      <td>-23</td>\n",
       "      <td>1</td>\n",
       "      <td>-</td>\n",
       "      <td>...</td>\n",
       "      <td>1</td>\n",
       "      <td>0</td>\n",
       "      <td>0</td>\n",
       "      <td>0</td>\n",
       "      <td>0</td>\n",
       "      <td>0</td>\n",
       "      <td>0</td>\n",
       "      <td>0</td>\n",
       "      <td>0</td>\n",
       "      <td>0</td>\n",
       "    </tr>\n",
       "    <tr>\n",
       "      <th>1</th>\n",
       "      <td>42</td>\n",
       "      <td>0.01</td>\n",
       "      <td>9</td>\n",
       "      <td>4</td>\n",
       "      <td>R-skew</td>\n",
       "      <td>9</td>\n",
       "      <td>1.00</td>\n",
       "      <td>9</td>\n",
       "      <td>1</td>\n",
       "      <td>-</td>\n",
       "      <td>...</td>\n",
       "      <td>2</td>\n",
       "      <td>0</td>\n",
       "      <td>0</td>\n",
       "      <td>0</td>\n",
       "      <td>0</td>\n",
       "      <td>0</td>\n",
       "      <td>0</td>\n",
       "      <td>0</td>\n",
       "      <td>0</td>\n",
       "      <td>0</td>\n",
       "    </tr>\n",
       "    <tr>\n",
       "      <th>2</th>\n",
       "      <td>-4</td>\n",
       "      <td>1.00</td>\n",
       "      <td>-4</td>\n",
       "      <td>1</td>\n",
       "      <td>-</td>\n",
       "      <td>5</td>\n",
       "      <td>0.99</td>\n",
       "      <td>-20</td>\n",
       "      <td>4</td>\n",
       "      <td>Symm</td>\n",
       "      <td>...</td>\n",
       "      <td>3</td>\n",
       "      <td>0</td>\n",
       "      <td>0</td>\n",
       "      <td>0</td>\n",
       "      <td>0</td>\n",
       "      <td>0</td>\n",
       "      <td>0</td>\n",
       "      <td>0</td>\n",
       "      <td>0</td>\n",
       "      <td>0</td>\n",
       "    </tr>\n",
       "    <tr>\n",
       "      <th>3</th>\n",
       "      <td>13</td>\n",
       "      <td>1.00</td>\n",
       "      <td>13</td>\n",
       "      <td>1</td>\n",
       "      <td>-</td>\n",
       "      <td>54</td>\n",
       "      <td>0.40</td>\n",
       "      <td>-9</td>\n",
       "      <td>1</td>\n",
       "      <td>-</td>\n",
       "      <td>...</td>\n",
       "      <td>4</td>\n",
       "      <td>0</td>\n",
       "      <td>0</td>\n",
       "      <td>0</td>\n",
       "      <td>0</td>\n",
       "      <td>0</td>\n",
       "      <td>0</td>\n",
       "      <td>0</td>\n",
       "      <td>0</td>\n",
       "      <td>0</td>\n",
       "    </tr>\n",
       "    <tr>\n",
       "      <th>4</th>\n",
       "      <td>-6</td>\n",
       "      <td>1.00</td>\n",
       "      <td>-6</td>\n",
       "      <td>1</td>\n",
       "      <td>-</td>\n",
       "      <td>-6</td>\n",
       "      <td>1.00</td>\n",
       "      <td>-6</td>\n",
       "      <td>8</td>\n",
       "      <td>L-skew</td>\n",
       "      <td>...</td>\n",
       "      <td>5</td>\n",
       "      <td>0</td>\n",
       "      <td>0</td>\n",
       "      <td>0</td>\n",
       "      <td>0</td>\n",
       "      <td>0</td>\n",
       "      <td>0</td>\n",
       "      <td>0</td>\n",
       "      <td>0</td>\n",
       "      <td>0</td>\n",
       "    </tr>\n",
       "  </tbody>\n",
       "</table>\n",
       "<p>5 rows × 22 columns</p>\n",
       "</div>"
      ],
      "text/plain": [
       "   Ha   pHa  La  LotNumA LotShapeA  Hb   pHb  Lb  LotNumB LotShapeB   ...    \\\n",
       "0  53  0.25 -20        1         -  86  0.25 -23        1         -   ...     \n",
       "1  42  0.01   9        4    R-skew   9  1.00   9        1         -   ...     \n",
       "2  -4  1.00  -4        1         -   5  0.99 -20        4      Symm   ...     \n",
       "3  13  1.00  13        1         -  54  0.40  -9        1         -   ...     \n",
       "4  -6  1.00  -6        1         -  -6  1.00  -6        8    L-skew   ...     \n",
       "\n",
       "   GameId  B1  sigma  kapa  beta  gama  psi  theta  wamb  Beast1  \n",
       "0       1   0      0     0     0     0    0      0     0       0  \n",
       "1       2   0      0     0     0     0    0      0     0       0  \n",
       "2       3   0      0     0     0     0    0      0     0       0  \n",
       "3       4   0      0     0     0     0    0      0     0       0  \n",
       "4       5   0      0     0     0     0    0      0     0       0  \n",
       "\n",
       "[5 rows x 22 columns]"
      ]
     },
     "execution_count": 55,
     "metadata": {},
     "output_type": "execute_result"
    }
   ],
   "source": [
    "Data.head()"
   ]
  },
  {
   "cell_type": "code",
   "execution_count": null,
   "metadata": {},
   "outputs": [],
   "source": []
  },
  {
   "cell_type": "code",
   "execution_count": 56,
   "metadata": {},
   "outputs": [],
   "source": [
    "for game in nProblems_i[:2]:\n",
    "    # Replicate the Problem 200 times, for 200 participants in each problem \n",
    "    dfdf = Data.loc[(Data.GameId == game)] \n",
    "    rep_prob = pd.DataFrame(np.repeat(dfdf.values, int(200*54), axis = 0), columns= Data.columns)\n",
    "    Data = pd.concat([Data, rep_prob])\n"
   ]
  },
  {
   "cell_type": "code",
   "execution_count": 59,
   "metadata": {},
   "outputs": [],
   "source": [
    "dfdf = Data2.loc[(Data2.GameId == game)] \n",
    "rep_prob = pd.DataFrame(np.repeat(dfdf.values, int(200*54), axis = 0), columns= Data2.columns)\n",
    "Data2 = pd.concat([Data2, rep_prob])\n"
   ]
  },
  {
   "cell_type": "code",
   "execution_count": 75,
   "metadata": {},
   "outputs": [],
   "source": [
    "Data= Data2"
   ]
  },
  {
   "cell_type": "code",
   "execution_count": 76,
   "metadata": {},
   "outputs": [],
   "source": [
    "game = nProblems_i[200]\n",
    "dfdf = Data.loc[(Data.GameId == game)] \n",
    "rep_prob = pd.DataFrame(np.repeat(dfdf.values, int(200*54)-1, axis = 0), columns= Data.columns)\n",
    "Data = pd.concat([Data, rep_prob])\n",
    "Data.loc[(Data['GameId'] == game), ['B1', 'sigma', 'kapa', 'beta', 'gama', 'psi', 'theta', 'wamb']] = pd.DataFrame.from_records(all_Prediction)\n"
   ]
  },
  {
   "cell_type": "code",
   "execution_count": 81,
   "metadata": {},
   "outputs": [
    {
     "data": {
      "text/plain": [
       "(10800, 8)"
      ]
     },
     "execution_count": 81,
     "metadata": {},
     "output_type": "execute_result"
    }
   ],
   "source": [
    "pd.DataFrame.from_records(all_Prediction).shape"
   ]
  },
  {
   "cell_type": "code",
   "execution_count": 82,
   "metadata": {},
   "outputs": [
    {
     "data": {
      "text/plain": [
       "(10800, 8)"
      ]
     },
     "execution_count": 82,
     "metadata": {},
     "output_type": "execute_result"
    }
   ],
   "source": [
    "Data.loc[(Data['GameId'] == game), ['B1', 'sigma', 'kapa', 'beta', 'gama', 'psi', 'theta', 'wamb']].shape"
   ]
  },
  {
   "cell_type": "markdown",
   "metadata": {},
   "source": []
  },
  {
   "cell_type": "code",
   "execution_count": 88,
   "metadata": {},
   "outputs": [],
   "source": [
    "pred_def = pd.DataFrame.from_records(all_Prediction)"
   ]
  },
  {
   "cell_type": "code",
   "execution_count": 89,
   "metadata": {},
   "outputs": [
    {
     "data": {
      "text/plain": [
       "(10800, 8)"
      ]
     },
     "execution_count": 89,
     "metadata": {},
     "output_type": "execute_result"
    }
   ],
   "source": [
    "pred_def.shape"
   ]
  },
  {
   "cell_type": "code",
   "execution_count": 91,
   "metadata": {},
   "outputs": [],
   "source": [
    "pred_def.columns = ['B1', 'sigma', 'kapa', 'beta', 'gama', 'psi', 'theta', 'wamb']"
   ]
  },
  {
   "cell_type": "code",
   "execution_count": 83,
   "metadata": {},
   "outputs": [],
   "source": [
    "Data.loc[(Data['GameId'] == game), ['B1', 'sigma', 'kapa', 'beta', 'gama', 'psi', 'theta', 'wamb']] = pd.DataFrame.from_records(all_Prediction)"
   ]
  },
  {
   "cell_type": "code",
   "execution_count": 93,
   "metadata": {},
   "outputs": [],
   "source": [
    "Data.loc[(Data['GameId'] == game), 'B1'] = pred_def['B1']"
   ]
  },
  {
   "cell_type": "code",
   "execution_count": 94,
   "metadata": {},
   "outputs": [
    {
     "data": {
      "text/plain": [
       "200      0.8\n",
       "0        0.6\n",
       "1        0.4\n",
       "2        0.4\n",
       "3        0.8\n",
       "4        0.4\n",
       "5          0\n",
       "6        0.2\n",
       "7        0.8\n",
       "8        0.4\n",
       "9        0.8\n",
       "10       0.4\n",
       "11       0.6\n",
       "12       0.2\n",
       "13       0.2\n",
       "14       0.4\n",
       "15       0.8\n",
       "16       0.8\n",
       "17       0.6\n",
       "18       0.2\n",
       "19       0.6\n",
       "20       0.4\n",
       "21       0.8\n",
       "22       0.2\n",
       "23       0.2\n",
       "24       0.2\n",
       "25         0\n",
       "26       0.4\n",
       "27       0.8\n",
       "28       0.8\n",
       "        ... \n",
       "10769      1\n",
       "10770    0.4\n",
       "10771    0.2\n",
       "10772    0.4\n",
       "10773    0.2\n",
       "10774    0.4\n",
       "10775    0.4\n",
       "10776    0.4\n",
       "10777    0.6\n",
       "10778    0.4\n",
       "10779    0.4\n",
       "10780    0.4\n",
       "10781    0.4\n",
       "10782    0.2\n",
       "10783    0.6\n",
       "10784    0.4\n",
       "10785    0.8\n",
       "10786    0.6\n",
       "10787    0.4\n",
       "10788    0.6\n",
       "10789    0.2\n",
       "10790    0.4\n",
       "10791    0.4\n",
       "10792    0.6\n",
       "10793      0\n",
       "10794    0.2\n",
       "10795    0.4\n",
       "10796    0.4\n",
       "10797    0.2\n",
       "10798    0.2\n",
       "Name: B1, Length: 10800, dtype: object"
      ]
     },
     "execution_count": 94,
     "metadata": {},
     "output_type": "execute_result"
    }
   ],
   "source": [
    "Data.loc[(Data['GameId'] == game), 'B1']"
   ]
  },
  {
   "cell_type": "code",
   "execution_count": null,
   "metadata": {},
   "outputs": [],
   "source": []
  },
  {
   "cell_type": "code",
   "execution_count": null,
   "metadata": {},
   "outputs": [],
   "source": []
  },
  {
   "cell_type": "code",
   "execution_count": 3,
   "metadata": {},
   "outputs": [],
   "source": [
    "# load problems to predict \n",
    "Data = pd.read_csv('/home/meghanmergui/Synth20/Create_Synthetic_Games/1_games_10K/Synth10K2.csv')\n",
    "Data['GameId'] = range(1, len(Data) + 1)\n",
    "\n",
    "# Add the \"ground thruth = Beast_individual\" for every participant in evry block : \n",
    "Data['B1'] = 0\n",
    "\n",
    "Data['sigma'] = 0\n",
    "Data['kapa'] = 0\n",
    "Data['beta']= 0 \n",
    "Data['gama'] = 0 \n",
    "Data['psi'] = 0\n",
    "Data['theta'] = 0\n",
    "Data['wamb'] = 0\n",
    "\n",
    "Data['Beast1'] = 0\n",
    "\n",
    "# Total number of Problem_individual to predict\n",
    "nProblems = Data['GameId'].unique()"
   ]
  },
  {
   "cell_type": "code",
   "execution_count": 8,
   "metadata": {},
   "outputs": [
    {
     "data": {
      "text/plain": [
       "500"
      ]
     },
     "execution_count": 8,
     "metadata": {},
     "output_type": "execute_result"
    }
   ],
   "source": [
    "i = 0\n",
    "nProblems_i = nProblems[i*500 : 500*(i+1)]\n",
    "len(nProblems_i)"
   ]
  },
  {
   "cell_type": "code",
   "execution_count": 4,
   "metadata": {},
   "outputs": [
    {
     "data": {
      "text/plain": [
       "Index(['Ha', 'pHa', 'La', 'LotNumA', 'LotShapeA', 'Hb', 'pHb', 'Lb', 'LotNumB',\n",
       "       'LotShapeB', 'Corr', 'Amb', 'GameId', 'B1', 'sigma', 'kapa', 'beta',\n",
       "       'gama', 'psi', 'theta', 'wamb', 'Beast1'],\n",
       "      dtype='object')"
      ]
     },
     "execution_count": 4,
     "metadata": {},
     "output_type": "execute_result"
    }
   ],
   "source": [
    "Data.columns"
   ]
  },
  {
   "cell_type": "code",
   "execution_count": 5,
   "metadata": {},
   "outputs": [
    {
     "data": {
      "text/plain": [
       "(10000, 22)"
      ]
     },
     "execution_count": 5,
     "metadata": {},
     "output_type": "execute_result"
    }
   ],
   "source": [
    "Data.shape"
   ]
  },
  {
   "cell_type": "code",
   "execution_count": 9,
   "metadata": {},
   "outputs": [],
   "source": [
    "game = nProblems_i[200]\n",
    "# read problem's parameters\n",
    "Ha = Data.loc[Data.GameId == game, 'Ha'].values[0]\n",
    "pHa = Data.loc[Data.GameId == game, 'pHa'].values[0]\n",
    "La = Data.loc[Data.GameId == game, 'La'].values[0]\n",
    "LotShapeA = Data.loc[Data.GameId == game, 'LotShapeA'].values[0]\n",
    "LotNumA = Data.loc[Data.GameId == game, 'LotNumA'].values[0]\n",
    "Hb = Data.loc[Data.GameId == game, 'Hb'].values[0]\n",
    "pHb = Data.loc[Data.GameId == game]['pHb'].values[0]\n",
    "Lb = Data.loc[Data.GameId == game]['Lb'].values[0]\n",
    "LotShapeB = Data.loc[Data.GameId == game]['LotShapeB'].values[0]\n",
    "LotNumB = Data.loc[Data.GameId == game]['LotNumB'].values[0]\n",
    "Amb = Data.loc[Data.GameId == game]['Amb'].values[0]\n",
    "Corr = Data.loc[Data.GameId == game]['Corr'].values[0]"
   ]
  },
  {
   "cell_type": "code",
   "execution_count": 10,
   "metadata": {},
   "outputs": [],
   "source": [
    "# Use Beast to give the ground thruth : modify beast : only 50 simulations for every prediction not 50000\n",
    "(all_prediction, Prediction) = CPC15_BEAST_individual_pred(Ha, pHa, La, LotShapeA, LotNumA, Hb, pHb, Lb, LotShapeB, LotNumB, Amb, Corr)\n",
    "\n",
    "#Add the prediction to the Data\n",
    "Data.loc[Data.GameId == game, 'Beast1'] = Prediction[0]\n",
    "\n",
    "# Replicate the Problem 200 times, for 200 participants in each problem \n",
    "dfdf = Data.loc[(Data.GameId == game)] \n",
    "rep_prob = pd.DataFrame(np.repeat(dfdf.values, int(200*54)-1, axis = 0), columns= Data.columns)\n",
    "Data = pd.concat([Data, rep_prob])\n",
    "all_pred_df= pd.DataFrame.from_records(all_prediction)\n",
    "all_pred_df.columns = ['B1', 'sigma', 'kapa', 'beta', 'gama', 'psi', 'theta', 'wamb']\n",
    "for col in ['B1', 'sigma', 'kapa', 'beta', 'gama', 'psi', 'theta', 'wamb'] : \n",
    "    Data.loc[(Data['GameId'] == game), col] = all_pred_df[col]"
   ]
  },
  {
   "cell_type": "code",
   "execution_count": 12,
   "metadata": {},
   "outputs": [
    {
     "data": {
      "text/plain": [
       "(10800, 22)"
      ]
     },
     "execution_count": 12,
     "metadata": {},
     "output_type": "execute_result"
    }
   ],
   "source": [
    "Data.loc[(Data['GameId'] == game)].shape"
   ]
  },
  {
   "cell_type": "code",
   "execution_count": null,
   "metadata": {},
   "outputs": [],
   "source": []
  },
  {
   "cell_type": "code",
   "execution_count": 2,
   "metadata": {},
   "outputs": [],
   "source": [
    "import pandas as pd\n",
    "synth1 = pd.read_csv('/home/meghanmergui/Synth20/Create_Synthetic_Games/3_Generate_Answers /synth_allV2/synth_1.csv')"
   ]
  },
  {
   "cell_type": "code",
   "execution_count": 3,
   "metadata": {},
   "outputs": [
    {
     "data": {
      "text/plain": [
       "(5409500, 22)"
      ]
     },
     "execution_count": 3,
     "metadata": {},
     "output_type": "execute_result"
    }
   ],
   "source": [
    "synth1.shape"
   ]
  },
  {
   "cell_type": "code",
   "execution_count": 4,
   "metadata": {},
   "outputs": [
    {
     "data": {
      "text/html": [
       "<div>\n",
       "<style scoped>\n",
       "    .dataframe tbody tr th:only-of-type {\n",
       "        vertical-align: middle;\n",
       "    }\n",
       "\n",
       "    .dataframe tbody tr th {\n",
       "        vertical-align: top;\n",
       "    }\n",
       "\n",
       "    .dataframe thead th {\n",
       "        text-align: right;\n",
       "    }\n",
       "</style>\n",
       "<table border=\"1\" class=\"dataframe\">\n",
       "  <thead>\n",
       "    <tr style=\"text-align: right;\">\n",
       "      <th></th>\n",
       "      <th>Ha</th>\n",
       "      <th>pHa</th>\n",
       "      <th>La</th>\n",
       "      <th>LotNumA</th>\n",
       "      <th>LotShapeA</th>\n",
       "      <th>Hb</th>\n",
       "      <th>pHb</th>\n",
       "      <th>Lb</th>\n",
       "      <th>LotNumB</th>\n",
       "      <th>LotShapeB</th>\n",
       "      <th>...</th>\n",
       "      <th>GameId</th>\n",
       "      <th>B1</th>\n",
       "      <th>sigma</th>\n",
       "      <th>kapa</th>\n",
       "      <th>beta</th>\n",
       "      <th>gama</th>\n",
       "      <th>psi</th>\n",
       "      <th>theta</th>\n",
       "      <th>wamb</th>\n",
       "      <th>Beast1</th>\n",
       "    </tr>\n",
       "  </thead>\n",
       "  <tbody>\n",
       "    <tr>\n",
       "      <th>0</th>\n",
       "      <td>53</td>\n",
       "      <td>0.25</td>\n",
       "      <td>-20</td>\n",
       "      <td>1</td>\n",
       "      <td>-</td>\n",
       "      <td>86</td>\n",
       "      <td>0.25</td>\n",
       "      <td>-23</td>\n",
       "      <td>1</td>\n",
       "      <td>-</td>\n",
       "      <td>...</td>\n",
       "      <td>1</td>\n",
       "      <td>0.0</td>\n",
       "      <td>0.0</td>\n",
       "      <td>0</td>\n",
       "      <td>0.0</td>\n",
       "      <td>0.0</td>\n",
       "      <td>0.0</td>\n",
       "      <td>0.0</td>\n",
       "      <td>0</td>\n",
       "      <td>0.0</td>\n",
       "    </tr>\n",
       "    <tr>\n",
       "      <th>1</th>\n",
       "      <td>42</td>\n",
       "      <td>0.01</td>\n",
       "      <td>9</td>\n",
       "      <td>4</td>\n",
       "      <td>R-skew</td>\n",
       "      <td>9</td>\n",
       "      <td>1.00</td>\n",
       "      <td>9</td>\n",
       "      <td>1</td>\n",
       "      <td>-</td>\n",
       "      <td>...</td>\n",
       "      <td>2</td>\n",
       "      <td>0.0</td>\n",
       "      <td>0.0</td>\n",
       "      <td>0</td>\n",
       "      <td>0.0</td>\n",
       "      <td>0.0</td>\n",
       "      <td>0.0</td>\n",
       "      <td>0.0</td>\n",
       "      <td>0</td>\n",
       "      <td>0.0</td>\n",
       "    </tr>\n",
       "    <tr>\n",
       "      <th>2</th>\n",
       "      <td>-4</td>\n",
       "      <td>1.00</td>\n",
       "      <td>-4</td>\n",
       "      <td>1</td>\n",
       "      <td>-</td>\n",
       "      <td>5</td>\n",
       "      <td>0.99</td>\n",
       "      <td>-20</td>\n",
       "      <td>4</td>\n",
       "      <td>Symm</td>\n",
       "      <td>...</td>\n",
       "      <td>3</td>\n",
       "      <td>0.0</td>\n",
       "      <td>0.0</td>\n",
       "      <td>0</td>\n",
       "      <td>0.0</td>\n",
       "      <td>0.0</td>\n",
       "      <td>0.0</td>\n",
       "      <td>0.0</td>\n",
       "      <td>0</td>\n",
       "      <td>0.0</td>\n",
       "    </tr>\n",
       "    <tr>\n",
       "      <th>3</th>\n",
       "      <td>13</td>\n",
       "      <td>1.00</td>\n",
       "      <td>13</td>\n",
       "      <td>1</td>\n",
       "      <td>-</td>\n",
       "      <td>54</td>\n",
       "      <td>0.40</td>\n",
       "      <td>-9</td>\n",
       "      <td>1</td>\n",
       "      <td>-</td>\n",
       "      <td>...</td>\n",
       "      <td>4</td>\n",
       "      <td>0.0</td>\n",
       "      <td>0.0</td>\n",
       "      <td>0</td>\n",
       "      <td>0.0</td>\n",
       "      <td>0.0</td>\n",
       "      <td>0.0</td>\n",
       "      <td>0.0</td>\n",
       "      <td>0</td>\n",
       "      <td>0.0</td>\n",
       "    </tr>\n",
       "    <tr>\n",
       "      <th>4</th>\n",
       "      <td>-6</td>\n",
       "      <td>1.00</td>\n",
       "      <td>-6</td>\n",
       "      <td>1</td>\n",
       "      <td>-</td>\n",
       "      <td>-6</td>\n",
       "      <td>1.00</td>\n",
       "      <td>-6</td>\n",
       "      <td>8</td>\n",
       "      <td>L-skew</td>\n",
       "      <td>...</td>\n",
       "      <td>5</td>\n",
       "      <td>0.0</td>\n",
       "      <td>0.0</td>\n",
       "      <td>0</td>\n",
       "      <td>0.0</td>\n",
       "      <td>0.0</td>\n",
       "      <td>0.0</td>\n",
       "      <td>0.0</td>\n",
       "      <td>0</td>\n",
       "      <td>0.0</td>\n",
       "    </tr>\n",
       "  </tbody>\n",
       "</table>\n",
       "<p>5 rows × 22 columns</p>\n",
       "</div>"
      ],
      "text/plain": [
       "   Ha   pHa  La  LotNumA LotShapeA  Hb   pHb  Lb  LotNumB LotShapeB   ...    \\\n",
       "0  53  0.25 -20        1         -  86  0.25 -23        1         -   ...     \n",
       "1  42  0.01   9        4    R-skew   9  1.00   9        1         -   ...     \n",
       "2  -4  1.00  -4        1         -   5  0.99 -20        4      Symm   ...     \n",
       "3  13  1.00  13        1         -  54  0.40  -9        1         -   ...     \n",
       "4  -6  1.00  -6        1         -  -6  1.00  -6        8    L-skew   ...     \n",
       "\n",
       "   GameId   B1  sigma  kapa  beta  gama  psi  theta  wamb  Beast1  \n",
       "0       1  0.0    0.0     0   0.0   0.0  0.0    0.0     0     0.0  \n",
       "1       2  0.0    0.0     0   0.0   0.0  0.0    0.0     0     0.0  \n",
       "2       3  0.0    0.0     0   0.0   0.0  0.0    0.0     0     0.0  \n",
       "3       4  0.0    0.0     0   0.0   0.0  0.0    0.0     0     0.0  \n",
       "4       5  0.0    0.0     0   0.0   0.0  0.0    0.0     0     0.0  \n",
       "\n",
       "[5 rows x 22 columns]"
      ]
     },
     "execution_count": 4,
     "metadata": {},
     "output_type": "execute_result"
    }
   ],
   "source": [
    "synth1.head()"
   ]
  },
  {
   "cell_type": "code",
   "execution_count": 14,
   "metadata": {},
   "outputs": [
    {
     "data": {
      "text/plain": [
       "1        9500\n",
       "10800     500\n",
       "Name: GameId, dtype: int64"
      ]
     },
     "execution_count": 14,
     "metadata": {},
     "output_type": "execute_result"
    }
   ],
   "source": [
    "pd.DataFrame(synth1.GameId.value_counts())['GameId'].value_counts()"
   ]
  },
  {
   "cell_type": "code",
   "execution_count": 31,
   "metadata": {},
   "outputs": [
    {
     "data": {
      "text/html": [
       "<div>\n",
       "<style scoped>\n",
       "    .dataframe tbody tr th:only-of-type {\n",
       "        vertical-align: middle;\n",
       "    }\n",
       "\n",
       "    .dataframe tbody tr th {\n",
       "        vertical-align: top;\n",
       "    }\n",
       "\n",
       "    .dataframe thead th {\n",
       "        text-align: right;\n",
       "    }\n",
       "</style>\n",
       "<table border=\"1\" class=\"dataframe\">\n",
       "  <thead>\n",
       "    <tr style=\"text-align: right;\">\n",
       "      <th></th>\n",
       "      <th>gama</th>\n",
       "    </tr>\n",
       "  </thead>\n",
       "  <tbody>\n",
       "    <tr>\n",
       "      <th>1.50</th>\n",
       "      <td>2700250</td>\n",
       "    </tr>\n",
       "    <tr>\n",
       "      <th>0.33</th>\n",
       "      <td>2699750</td>\n",
       "    </tr>\n",
       "    <tr>\n",
       "      <th>0.00</th>\n",
       "      <td>9500</td>\n",
       "    </tr>\n",
       "  </tbody>\n",
       "</table>\n",
       "</div>"
      ],
      "text/plain": [
       "         gama\n",
       "1.50  2700250\n",
       "0.33  2699750\n",
       "0.00     9500"
      ]
     },
     "execution_count": 31,
     "metadata": {},
     "output_type": "execute_result"
    }
   ],
   "source": [
    "pd.DataFrame(synth1.gama.value_counts())\n",
    "# pd.DataFrame(synth1.loc[synth1.GameId.isin(nProblems_i)].beta.value_counts())"
   ]
  },
  {
   "cell_type": "code",
   "execution_count": 36,
   "metadata": {},
   "outputs": [
    {
     "data": {
      "text/plain": [
       "5400000"
      ]
     },
     "execution_count": 36,
     "metadata": {},
     "output_type": "execute_result"
    }
   ],
   "source": [
    "200*500*54"
   ]
  },
  {
   "cell_type": "code",
   "execution_count": 37,
   "metadata": {},
   "outputs": [
    {
     "name": "stdout",
     "output_type": "stream",
     "text": [
      "10800    500\n",
      "Name: GameId, dtype: int64\n",
      "(5400000, 22)\n",
      "10800    500\n",
      "Name: GameId, dtype: int64\n",
      "(5400000, 22)\n",
      "10800    500\n",
      "Name: GameId, dtype: int64\n",
      "(5400000, 22)\n",
      "10800    500\n",
      "Name: GameId, dtype: int64\n",
      "(5400000, 22)\n",
      "10800    500\n",
      "Name: GameId, dtype: int64\n",
      "(5400000, 22)\n",
      "10800    500\n",
      "Name: GameId, dtype: int64\n",
      "(5400000, 22)\n",
      "10800    500\n",
      "Name: GameId, dtype: int64\n",
      "(5400000, 22)\n",
      "10800    500\n",
      "Name: GameId, dtype: int64\n",
      "(5400000, 22)\n",
      "10800    500\n",
      "Name: GameId, dtype: int64\n",
      "(5400000, 22)\n",
      "10800    500\n",
      "Name: GameId, dtype: int64\n",
      "(5400000, 22)\n",
      "10800    500\n",
      "Name: GameId, dtype: int64\n",
      "(5400000, 22)\n",
      "10800    500\n",
      "Name: GameId, dtype: int64\n",
      "(5400000, 22)\n",
      "10800    500\n",
      "Name: GameId, dtype: int64\n",
      "(5400000, 22)\n",
      "10800    500\n",
      "Name: GameId, dtype: int64\n",
      "(5400000, 22)\n",
      "10800    500\n",
      "Name: GameId, dtype: int64\n",
      "(5400000, 22)\n",
      "10800    500\n",
      "Name: GameId, dtype: int64\n",
      "(5400000, 22)\n",
      "10800    500\n",
      "Name: GameId, dtype: int64\n",
      "(5400000, 22)\n",
      "10800    500\n",
      "Name: GameId, dtype: int64\n",
      "(5400000, 22)\n",
      "10800    500\n",
      "Name: GameId, dtype: int64\n",
      "(5400000, 22)\n",
      "10800    500\n",
      "Name: GameId, dtype: int64\n",
      "(5400000, 22)\n"
     ]
    }
   ],
   "source": [
    "for i in range(20) : \n",
    "    synth_i = pd.read_csv(str('/home/meghanmergui/Synth20/Create_Synthetic_Games/3_Generate_Answers /synth_allV2/synth_') +str(i) +str('.csv'))\n",
    "    nProblems_i = nProblems[i*500 : 500*(i+1)]\n",
    "    synth_i = synth_i.loc[synth_i.GameId.isin(nProblems_i)]\n",
    "    print(pd.DataFrame(synth_i.loc[synth_i.GameId.isin(nProblems_i)].GameId.value_counts())['GameId'].value_counts())\n",
    "    print(synth_i.shape)"
   ]
  },
  {
   "cell_type": "code",
   "execution_count": 39,
   "metadata": {},
   "outputs": [
    {
     "name": "stdout",
     "output_type": "stream",
     "text": [
      "10800    500\n",
      "Name: GameId, dtype: int64\n",
      "(5400000, 22)\n",
      "10800    500\n",
      "Name: GameId, dtype: int64\n",
      "(5400000, 22)\n",
      "10800    500\n",
      "Name: GameId, dtype: int64\n",
      "(5400000, 22)\n",
      "10800    500\n",
      "Name: GameId, dtype: int64\n",
      "(5400000, 22)\n",
      "10800    500\n",
      "Name: GameId, dtype: int64\n",
      "(5400000, 22)\n",
      "10800    500\n",
      "Name: GameId, dtype: int64\n",
      "(5400000, 22)\n",
      "10800    500\n",
      "Name: GameId, dtype: int64\n",
      "(5400000, 22)\n",
      "10800    500\n",
      "Name: GameId, dtype: int64\n",
      "(5400000, 22)\n",
      "10800    500\n",
      "Name: GameId, dtype: int64\n",
      "(5400000, 22)\n",
      "10800    500\n",
      "Name: GameId, dtype: int64\n",
      "(5400000, 22)\n",
      "10800    500\n",
      "Name: GameId, dtype: int64\n",
      "(5400000, 22)\n",
      "10800    500\n",
      "Name: GameId, dtype: int64\n",
      "(5400000, 22)\n",
      "10800    500\n",
      "Name: GameId, dtype: int64\n",
      "(5400000, 22)\n",
      "10800    500\n",
      "Name: GameId, dtype: int64\n",
      "(5400000, 22)\n",
      "10800    500\n",
      "Name: GameId, dtype: int64\n",
      "(5400000, 22)\n",
      "10800    500\n",
      "Name: GameId, dtype: int64\n",
      "(5400000, 22)\n",
      "10800    500\n",
      "Name: GameId, dtype: int64\n",
      "(5400000, 22)\n",
      "10800    500\n",
      "Name: GameId, dtype: int64\n",
      "(5400000, 22)\n",
      "10800    500\n",
      "Name: GameId, dtype: int64\n",
      "(5400000, 22)\n",
      "10800    500\n",
      "Name: GameId, dtype: int64\n",
      "(5400000, 22)\n"
     ]
    }
   ],
   "source": [
    "for i in range(20) : \n",
    "    synth_i = pd.read_csv(str('/home/meghanmergui/Synth20/Create_Synthetic_Games/3_Generate_Answers /synth_allV2/synth_') +str(i) +str('.csv'))\n",
    "    nProblems_i = nProblems[i*500 : 500*(i+1)]\n",
    "    synth_i = synth_i.loc[synth_i.GameId.isin(nProblems_i)]\n",
    "    print(pd.DataFrame(synth_i.loc[synth_i.GameId.isin(nProblems_i)].GameId.value_counts())['GameId'].value_counts())\n",
    "    print(synth_i.shape)\n",
    "    synth_i.to_csv(str('/home/meghanmergui/Synth20/Create_Synthetic_Games/3_Generate_Answers /synth_all/synth_') +str(i) +str('.csv'), index = False)"
   ]
  },
  {
   "cell_type": "markdown",
   "metadata": {},
   "source": [
    "# Check synth 500 "
   ]
  },
  {
   "cell_type": "code",
   "execution_count": 3,
   "metadata": {},
   "outputs": [],
   "source": [
    "synth10 = pd.read_csv(\"/home/meghanmergui/Synth20/Create_Synthetic_Games/3_Generate_Answers /synth_all/synth_10.csv\")"
   ]
  },
  {
   "cell_type": "code",
   "execution_count": 4,
   "metadata": {},
   "outputs": [
    {
     "data": {
      "text/plain": [
       "500"
      ]
     },
     "execution_count": 4,
     "metadata": {},
     "output_type": "execute_result"
    }
   ],
   "source": [
    "synth10.GameId.nunique()"
   ]
  },
  {
   "cell_type": "code",
   "execution_count": 44,
   "metadata": {},
   "outputs": [
    {
     "data": {
      "text/plain": [
       "(54, 4)"
      ]
     },
     "execution_count": 44,
     "metadata": {},
     "output_type": "execute_result"
    }
   ],
   "source": [
    "synth10[['sigma', 'beta', 'kapa', 'gama']].drop_duplicates().shape"
   ]
  },
  {
   "cell_type": "code",
   "execution_count": 45,
   "metadata": {},
   "outputs": [
    {
     "data": {
      "text/plain": [
       "(27000, 5)"
      ]
     },
     "execution_count": 45,
     "metadata": {},
     "output_type": "execute_result"
    }
   ],
   "source": [
    "synth10[['sigma', 'beta', 'kapa', 'gama', 'GameId']].drop_duplicates().shape"
   ]
  },
  {
   "cell_type": "code",
   "execution_count": 46,
   "metadata": {},
   "outputs": [
    {
     "data": {
      "text/plain": [
       "27000"
      ]
     },
     "execution_count": 46,
     "metadata": {},
     "output_type": "execute_result"
    }
   ],
   "source": [
    "54*500"
   ]
  },
  {
   "cell_type": "code",
   "execution_count": 5,
   "metadata": {
    "scrolled": true
   },
   "outputs": [
    {
     "data": {
      "text/plain": [
       "500    54\n",
       "Name: GameId, dtype: int64"
      ]
     },
     "execution_count": 5,
     "metadata": {},
     "output_type": "execute_result"
    }
   ],
   "source": [
    "aa = pd.DataFrame(synth10.groupby(['sigma', 'beta', 'kapa', 'gama'])['GameId'].nunique())\n",
    "\n",
    "aa.GameId.value_counts()"
   ]
  },
  {
   "cell_type": "code",
   "execution_count": 7,
   "metadata": {},
   "outputs": [
    {
     "name": "stdout",
     "output_type": "stream",
     "text": [
      "                             GameId\n",
      "sigma beta kapa gama GameId        \n",
      "1.17  0.43 1    0.33 5001       200\n",
      "                     5002       200\n",
      "                     5003       200\n",
      "                     5004       200\n",
      "                     5005       200\n"
     ]
    },
    {
     "data": {
      "text/plain": [
       "200    26018\n",
       "201      491\n",
       "199      491\n",
       "Name: GameId, dtype: int64"
      ]
     },
     "execution_count": 7,
     "metadata": {},
     "output_type": "execute_result"
    }
   ],
   "source": [
    "a = pd.DataFrame(synth10.groupby(['sigma', 'beta', 'kapa', 'gama', 'GameId'])['GameId'].count())\n",
    "print(a.head())\n",
    "a.GameId.value_counts()"
   ]
  },
  {
   "cell_type": "code",
   "execution_count": 11,
   "metadata": {},
   "outputs": [
    {
     "data": {
      "text/html": [
       "<div>\n",
       "<style scoped>\n",
       "    .dataframe tbody tr th:only-of-type {\n",
       "        vertical-align: middle;\n",
       "    }\n",
       "\n",
       "    .dataframe tbody tr th {\n",
       "        vertical-align: top;\n",
       "    }\n",
       "\n",
       "    .dataframe thead th {\n",
       "        text-align: right;\n",
       "    }\n",
       "</style>\n",
       "<table border=\"1\" class=\"dataframe\">\n",
       "  <thead>\n",
       "    <tr style=\"text-align: right;\">\n",
       "      <th></th>\n",
       "      <th></th>\n",
       "      <th></th>\n",
       "      <th></th>\n",
       "      <th></th>\n",
       "      <th>GameId</th>\n",
       "    </tr>\n",
       "    <tr>\n",
       "      <th>sigma</th>\n",
       "      <th>beta</th>\n",
       "      <th>kapa</th>\n",
       "      <th>gama</th>\n",
       "      <th>GameId</th>\n",
       "      <th></th>\n",
       "    </tr>\n",
       "  </thead>\n",
       "  <tbody>\n",
       "    <tr>\n",
       "      <th rowspan=\"61\" valign=\"top\">5.83</th>\n",
       "      <th rowspan=\"61\" valign=\"top\">2.17</th>\n",
       "      <th rowspan=\"61\" valign=\"top\">3</th>\n",
       "      <th rowspan=\"61\" valign=\"top\">0.33</th>\n",
       "      <th>5001</th>\n",
       "      <td>199</td>\n",
       "    </tr>\n",
       "    <tr>\n",
       "      <th>5002</th>\n",
       "      <td>199</td>\n",
       "    </tr>\n",
       "    <tr>\n",
       "      <th>5003</th>\n",
       "      <td>199</td>\n",
       "    </tr>\n",
       "    <tr>\n",
       "      <th>5004</th>\n",
       "      <td>199</td>\n",
       "    </tr>\n",
       "    <tr>\n",
       "      <th>5005</th>\n",
       "      <td>199</td>\n",
       "    </tr>\n",
       "    <tr>\n",
       "      <th>5006</th>\n",
       "      <td>199</td>\n",
       "    </tr>\n",
       "    <tr>\n",
       "      <th>5007</th>\n",
       "      <td>199</td>\n",
       "    </tr>\n",
       "    <tr>\n",
       "      <th>5008</th>\n",
       "      <td>199</td>\n",
       "    </tr>\n",
       "    <tr>\n",
       "      <th>5009</th>\n",
       "      <td>199</td>\n",
       "    </tr>\n",
       "    <tr>\n",
       "      <th>5010</th>\n",
       "      <td>199</td>\n",
       "    </tr>\n",
       "    <tr>\n",
       "      <th>5011</th>\n",
       "      <td>199</td>\n",
       "    </tr>\n",
       "    <tr>\n",
       "      <th>5012</th>\n",
       "      <td>199</td>\n",
       "    </tr>\n",
       "    <tr>\n",
       "      <th>5013</th>\n",
       "      <td>199</td>\n",
       "    </tr>\n",
       "    <tr>\n",
       "      <th>5014</th>\n",
       "      <td>199</td>\n",
       "    </tr>\n",
       "    <tr>\n",
       "      <th>5015</th>\n",
       "      <td>199</td>\n",
       "    </tr>\n",
       "    <tr>\n",
       "      <th>5016</th>\n",
       "      <td>199</td>\n",
       "    </tr>\n",
       "    <tr>\n",
       "      <th>5017</th>\n",
       "      <td>199</td>\n",
       "    </tr>\n",
       "    <tr>\n",
       "      <th>5018</th>\n",
       "      <td>199</td>\n",
       "    </tr>\n",
       "    <tr>\n",
       "      <th>5019</th>\n",
       "      <td>199</td>\n",
       "    </tr>\n",
       "    <tr>\n",
       "      <th>5020</th>\n",
       "      <td>199</td>\n",
       "    </tr>\n",
       "    <tr>\n",
       "      <th>5021</th>\n",
       "      <td>199</td>\n",
       "    </tr>\n",
       "    <tr>\n",
       "      <th>5023</th>\n",
       "      <td>199</td>\n",
       "    </tr>\n",
       "    <tr>\n",
       "      <th>5024</th>\n",
       "      <td>199</td>\n",
       "    </tr>\n",
       "    <tr>\n",
       "      <th>5025</th>\n",
       "      <td>199</td>\n",
       "    </tr>\n",
       "    <tr>\n",
       "      <th>5026</th>\n",
       "      <td>199</td>\n",
       "    </tr>\n",
       "    <tr>\n",
       "      <th>5027</th>\n",
       "      <td>199</td>\n",
       "    </tr>\n",
       "    <tr>\n",
       "      <th>5028</th>\n",
       "      <td>199</td>\n",
       "    </tr>\n",
       "    <tr>\n",
       "      <th>5029</th>\n",
       "      <td>199</td>\n",
       "    </tr>\n",
       "    <tr>\n",
       "      <th>5030</th>\n",
       "      <td>199</td>\n",
       "    </tr>\n",
       "    <tr>\n",
       "      <th>5031</th>\n",
       "      <td>199</td>\n",
       "    </tr>\n",
       "    <tr>\n",
       "      <th>...</th>\n",
       "      <td>...</td>\n",
       "    </tr>\n",
       "    <tr>\n",
       "      <th>5471</th>\n",
       "      <td>199</td>\n",
       "    </tr>\n",
       "    <tr>\n",
       "      <th>5472</th>\n",
       "      <td>199</td>\n",
       "    </tr>\n",
       "    <tr>\n",
       "      <th>5473</th>\n",
       "      <td>199</td>\n",
       "    </tr>\n",
       "    <tr>\n",
       "      <th>5474</th>\n",
       "      <td>199</td>\n",
       "    </tr>\n",
       "    <tr>\n",
       "      <th>5475</th>\n",
       "      <td>199</td>\n",
       "    </tr>\n",
       "    <tr>\n",
       "      <th>5476</th>\n",
       "      <td>199</td>\n",
       "    </tr>\n",
       "    <tr>\n",
       "      <th>5477</th>\n",
       "      <td>199</td>\n",
       "    </tr>\n",
       "    <tr>\n",
       "      <th>5478</th>\n",
       "      <td>199</td>\n",
       "    </tr>\n",
       "    <tr>\n",
       "      <th>5479</th>\n",
       "      <td>199</td>\n",
       "    </tr>\n",
       "    <tr>\n",
       "      <th>5480</th>\n",
       "      <td>199</td>\n",
       "    </tr>\n",
       "    <tr>\n",
       "      <th>5481</th>\n",
       "      <td>199</td>\n",
       "    </tr>\n",
       "    <tr>\n",
       "      <th>5482</th>\n",
       "      <td>199</td>\n",
       "    </tr>\n",
       "    <tr>\n",
       "      <th>5483</th>\n",
       "      <td>199</td>\n",
       "    </tr>\n",
       "    <tr>\n",
       "      <th>5484</th>\n",
       "      <td>199</td>\n",
       "    </tr>\n",
       "    <tr>\n",
       "      <th>5485</th>\n",
       "      <td>199</td>\n",
       "    </tr>\n",
       "    <tr>\n",
       "      <th>5486</th>\n",
       "      <td>199</td>\n",
       "    </tr>\n",
       "    <tr>\n",
       "      <th>5487</th>\n",
       "      <td>199</td>\n",
       "    </tr>\n",
       "    <tr>\n",
       "      <th>5488</th>\n",
       "      <td>199</td>\n",
       "    </tr>\n",
       "    <tr>\n",
       "      <th>5489</th>\n",
       "      <td>199</td>\n",
       "    </tr>\n",
       "    <tr>\n",
       "      <th>5490</th>\n",
       "      <td>199</td>\n",
       "    </tr>\n",
       "    <tr>\n",
       "      <th>5491</th>\n",
       "      <td>199</td>\n",
       "    </tr>\n",
       "    <tr>\n",
       "      <th>5492</th>\n",
       "      <td>199</td>\n",
       "    </tr>\n",
       "    <tr>\n",
       "      <th>5493</th>\n",
       "      <td>199</td>\n",
       "    </tr>\n",
       "    <tr>\n",
       "      <th>5494</th>\n",
       "      <td>199</td>\n",
       "    </tr>\n",
       "    <tr>\n",
       "      <th>5495</th>\n",
       "      <td>199</td>\n",
       "    </tr>\n",
       "    <tr>\n",
       "      <th>5496</th>\n",
       "      <td>199</td>\n",
       "    </tr>\n",
       "    <tr>\n",
       "      <th>5497</th>\n",
       "      <td>199</td>\n",
       "    </tr>\n",
       "    <tr>\n",
       "      <th>5498</th>\n",
       "      <td>199</td>\n",
       "    </tr>\n",
       "    <tr>\n",
       "      <th>5499</th>\n",
       "      <td>199</td>\n",
       "    </tr>\n",
       "    <tr>\n",
       "      <th>5500</th>\n",
       "      <td>199</td>\n",
       "    </tr>\n",
       "  </tbody>\n",
       "</table>\n",
       "<p>491 rows × 1 columns</p>\n",
       "</div>"
      ],
      "text/plain": [
       "                             GameId\n",
       "sigma beta kapa gama GameId        \n",
       "5.83  2.17 3    0.33 5001       199\n",
       "                     5002       199\n",
       "                     5003       199\n",
       "                     5004       199\n",
       "                     5005       199\n",
       "                     5006       199\n",
       "                     5007       199\n",
       "                     5008       199\n",
       "                     5009       199\n",
       "                     5010       199\n",
       "                     5011       199\n",
       "                     5012       199\n",
       "                     5013       199\n",
       "                     5014       199\n",
       "                     5015       199\n",
       "                     5016       199\n",
       "                     5017       199\n",
       "                     5018       199\n",
       "                     5019       199\n",
       "                     5020       199\n",
       "                     5021       199\n",
       "                     5023       199\n",
       "                     5024       199\n",
       "                     5025       199\n",
       "                     5026       199\n",
       "                     5027       199\n",
       "                     5028       199\n",
       "                     5029       199\n",
       "                     5030       199\n",
       "                     5031       199\n",
       "...                             ...\n",
       "                     5471       199\n",
       "                     5472       199\n",
       "                     5473       199\n",
       "                     5474       199\n",
       "                     5475       199\n",
       "                     5476       199\n",
       "                     5477       199\n",
       "                     5478       199\n",
       "                     5479       199\n",
       "                     5480       199\n",
       "                     5481       199\n",
       "                     5482       199\n",
       "                     5483       199\n",
       "                     5484       199\n",
       "                     5485       199\n",
       "                     5486       199\n",
       "                     5487       199\n",
       "                     5488       199\n",
       "                     5489       199\n",
       "                     5490       199\n",
       "                     5491       199\n",
       "                     5492       199\n",
       "                     5493       199\n",
       "                     5494       199\n",
       "                     5495       199\n",
       "                     5496       199\n",
       "                     5497       199\n",
       "                     5498       199\n",
       "                     5499       199\n",
       "                     5500       199\n",
       "\n",
       "[491 rows x 1 columns]"
      ]
     },
     "execution_count": 11,
     "metadata": {},
     "output_type": "execute_result"
    }
   ],
   "source": [
    "a.loc[a.GameId==199]"
   ]
  },
  {
   "cell_type": "code",
   "execution_count": 62,
   "metadata": {},
   "outputs": [
    {
     "data": {
      "text/plain": [
       "0.9636296296296296"
      ]
     },
     "execution_count": 62,
     "metadata": {},
     "output_type": "execute_result"
    }
   ],
   "source": [
    "26018/(26018+491+491)"
   ]
  },
  {
   "cell_type": "code",
   "execution_count": 49,
   "metadata": {},
   "outputs": [
    {
     "data": {
      "text/plain": [
       "500    54\n",
       "Name: GameId, dtype: int64"
      ]
     },
     "execution_count": 49,
     "metadata": {},
     "output_type": "execute_result"
    }
   ],
   "source": [
    "aa.GameId.value_counts()"
   ]
  },
  {
   "cell_type": "code",
   "execution_count": 72,
   "metadata": {},
   "outputs": [],
   "source": [
    "f = synth10[['GameId', 'sigma', 'beta', 'kapa', 'gama']]"
   ]
  },
  {
   "cell_type": "code",
   "execution_count": 73,
   "metadata": {},
   "outputs": [
    {
     "name": "stderr",
     "output_type": "stream",
     "text": [
      "/home/meghanmergui@st.technion.ac.il/anaconda3/lib/python3.6/site-packages/ipykernel_launcher.py:1: SettingWithCopyWarning: \n",
      "A value is trying to be set on a copy of a slice from a DataFrame.\n",
      "Try using .loc[row_indexer,col_indexer] = value instead\n",
      "\n",
      "See the caveats in the documentation: http://pandas.pydata.org/pandas-docs/stable/indexing.html#indexing-view-versus-copy\n",
      "  \"\"\"Entry point for launching an IPython kernel.\n"
     ]
    }
   ],
   "source": [
    "f['type'] = f.apply(lambda x : str(str(x.sigma) + str(x.beta) + str(x.kapa) + str(x.gama)), axis = 1)"
   ]
  },
  {
   "cell_type": "code",
   "execution_count": 74,
   "metadata": {},
   "outputs": [
    {
     "data": {
      "text/plain": [
       "GameId  type           \n",
       "5001    1.170.431.00.33    200\n",
       "        1.170.431.01.5     200\n",
       "        1.170.432.00.33    200\n",
       "        1.170.432.01.5     200\n",
       "        1.170.433.00.33    200\n",
       "        1.170.433.01.5     200\n",
       "        1.171.31.00.33     200\n",
       "        1.171.31.01.5      200\n",
       "        1.171.32.00.33     200\n",
       "        1.171.32.01.5      200\n",
       "        1.171.33.00.33     200\n",
       "        1.171.33.01.5      200\n",
       "        1.172.171.00.33    200\n",
       "        1.172.171.01.5     200\n",
       "        1.172.172.00.33    200\n",
       "        1.172.172.01.5     200\n",
       "        1.172.173.00.33    200\n",
       "        1.172.173.01.5     200\n",
       "        3.50.431.00.33     200\n",
       "        3.50.431.01.5      200\n",
       "        3.50.432.00.33     200\n",
       "        3.50.432.01.5      200\n",
       "        3.50.433.00.33     200\n",
       "        3.50.433.01.5      200\n",
       "        3.51.31.00.33      200\n",
       "        3.51.31.01.5       200\n",
       "        3.51.32.00.33      200\n",
       "        3.51.32.01.5       200\n",
       "        3.51.33.00.33      200\n",
       "        3.51.33.01.5       200\n",
       "                          ... \n",
       "5500    3.51.31.00.33      200\n",
       "        3.51.31.01.5       200\n",
       "        3.51.32.00.33      200\n",
       "        3.51.32.01.5       200\n",
       "        3.51.33.00.33      200\n",
       "        3.51.33.01.5       200\n",
       "        3.52.171.00.33     200\n",
       "        3.52.171.01.5      200\n",
       "        3.52.172.00.33     200\n",
       "        3.52.172.01.5      200\n",
       "        3.52.173.00.33     200\n",
       "        3.52.173.01.5      200\n",
       "        5.830.431.00.33    200\n",
       "        5.830.431.01.5     200\n",
       "        5.830.432.00.33    200\n",
       "        5.830.432.01.5     200\n",
       "        5.830.433.00.33    200\n",
       "        5.830.433.01.5     200\n",
       "        5.831.31.00.33     200\n",
       "        5.831.31.01.5      200\n",
       "        5.831.32.00.33     201\n",
       "        5.831.32.01.5      200\n",
       "        5.831.33.00.33     200\n",
       "        5.831.33.01.5      200\n",
       "        5.832.171.00.33    200\n",
       "        5.832.171.01.5     200\n",
       "        5.832.172.00.33    200\n",
       "        5.832.172.01.5     200\n",
       "        5.832.173.00.33    199\n",
       "        5.832.173.01.5     200\n",
       "Name: type, Length: 27000, dtype: int64"
      ]
     },
     "execution_count": 74,
     "metadata": {},
     "output_type": "execute_result"
    }
   ],
   "source": [
    "f.groupby(['GameId', 'type'])['type'].count()"
   ]
  },
  {
   "cell_type": "code",
   "execution_count": 64,
   "metadata": {},
   "outputs": [
    {
     "data": {
      "text/plain": [
       "sigma  beta  kapa  gama\n",
       "1.17   0.43  1     0.33    500\n",
       "                   1.50    500\n",
       "             2     0.33    500\n",
       "                   1.50    500\n",
       "             3     0.33    500\n",
       "                   1.50    500\n",
       "       1.30  1     0.33    500\n",
       "                   1.50    500\n",
       "             2     0.33    500\n",
       "                   1.50    500\n",
       "             3     0.33    500\n",
       "                   1.50    500\n",
       "       2.17  1     0.33    500\n",
       "                   1.50    500\n",
       "             2     0.33    500\n",
       "                   1.50    500\n",
       "             3     0.33    500\n",
       "                   1.50    500\n",
       "3.50   0.43  1     0.33    500\n",
       "                   1.50    500\n",
       "             2     0.33    500\n",
       "                   1.50    500\n",
       "             3     0.33    500\n",
       "                   1.50    500\n",
       "       1.30  1     0.33    500\n",
       "                   1.50    500\n",
       "             2     0.33    500\n",
       "                   1.50    500\n",
       "             3     0.33    500\n",
       "                   1.50    500\n",
       "       2.17  1     0.33    500\n",
       "                   1.50    500\n",
       "             2     0.33    500\n",
       "                   1.50    500\n",
       "             3     0.33    500\n",
       "                   1.50    500\n",
       "5.83   0.43  1     0.33    500\n",
       "                   1.50    500\n",
       "             2     0.33    500\n",
       "                   1.50    500\n",
       "             3     0.33    500\n",
       "                   1.50    500\n",
       "       1.30  1     0.33    500\n",
       "                   1.50    500\n",
       "             2     0.33    500\n",
       "                   1.50    500\n",
       "             3     0.33    500\n",
       "                   1.50    500\n",
       "       2.17  1     0.33    500\n",
       "                   1.50    500\n",
       "             2     0.33    500\n",
       "                   1.50    500\n",
       "             3     0.33    500\n",
       "                   1.50    500\n",
       "Name: GameId, dtype: int64"
      ]
     },
     "execution_count": 64,
     "metadata": {},
     "output_type": "execute_result"
    }
   ],
   "source": [
    "b = synth10[['GameId', 'sigma', 'beta', 'kapa', 'gama']].drop_duplicates()\n",
    "b.groupby(['sigma', 'beta', 'kapa', 'gama']).GameId.count()"
   ]
  },
  {
   "cell_type": "code",
   "execution_count": 66,
   "metadata": {},
   "outputs": [],
   "source": [
    "b['type'] = b.apply(lambda x : str(str(x.sigma) + str(x.beta) + str(x.kapa) + str(x.gama)), axis = 1)"
   ]
  },
  {
   "cell_type": "code",
   "execution_count": 69,
   "metadata": {},
   "outputs": [
    {
     "data": {
      "text/plain": [
       "array([54])"
      ]
     },
     "execution_count": 69,
     "metadata": {},
     "output_type": "execute_result"
    }
   ],
   "source": [
    "b.groupby('GameId')['type'].count().unique()"
   ]
  },
  {
   "cell_type": "code",
   "execution_count": 51,
   "metadata": {
    "scrolled": true
   },
   "outputs": [
    {
     "data": {
      "text/html": [
       "<div>\n",
       "<style scoped>\n",
       "    .dataframe tbody tr th:only-of-type {\n",
       "        vertical-align: middle;\n",
       "    }\n",
       "\n",
       "    .dataframe tbody tr th {\n",
       "        vertical-align: top;\n",
       "    }\n",
       "\n",
       "    .dataframe thead th {\n",
       "        text-align: right;\n",
       "    }\n",
       "</style>\n",
       "<table border=\"1\" class=\"dataframe\">\n",
       "  <thead>\n",
       "    <tr style=\"text-align: right;\">\n",
       "      <th></th>\n",
       "      <th></th>\n",
       "      <th></th>\n",
       "      <th></th>\n",
       "      <th>GameId</th>\n",
       "    </tr>\n",
       "    <tr>\n",
       "      <th>sigma</th>\n",
       "      <th>beta</th>\n",
       "      <th>kapa</th>\n",
       "      <th>gama</th>\n",
       "      <th></th>\n",
       "    </tr>\n",
       "  </thead>\n",
       "  <tbody>\n",
       "    <tr>\n",
       "      <th rowspan=\"18\" valign=\"top\">1.17</th>\n",
       "      <th rowspan=\"6\" valign=\"top\">0.43</th>\n",
       "      <th rowspan=\"2\" valign=\"top\">1</th>\n",
       "      <th>0.33</th>\n",
       "      <td>100009</td>\n",
       "    </tr>\n",
       "    <tr>\n",
       "      <th>1.50</th>\n",
       "      <td>100009</td>\n",
       "    </tr>\n",
       "    <tr>\n",
       "      <th rowspan=\"2\" valign=\"top\">2</th>\n",
       "      <th>0.33</th>\n",
       "      <td>100009</td>\n",
       "    </tr>\n",
       "    <tr>\n",
       "      <th>1.50</th>\n",
       "      <td>100009</td>\n",
       "    </tr>\n",
       "    <tr>\n",
       "      <th rowspan=\"2\" valign=\"top\">3</th>\n",
       "      <th>0.33</th>\n",
       "      <td>100009</td>\n",
       "    </tr>\n",
       "    <tr>\n",
       "      <th>1.50</th>\n",
       "      <td>100009</td>\n",
       "    </tr>\n",
       "    <tr>\n",
       "      <th rowspan=\"6\" valign=\"top\">1.30</th>\n",
       "      <th rowspan=\"2\" valign=\"top\">1</th>\n",
       "      <th>0.33</th>\n",
       "      <td>100009</td>\n",
       "    </tr>\n",
       "    <tr>\n",
       "      <th>1.50</th>\n",
       "      <td>100009</td>\n",
       "    </tr>\n",
       "    <tr>\n",
       "      <th rowspan=\"2\" valign=\"top\">2</th>\n",
       "      <th>0.33</th>\n",
       "      <td>100009</td>\n",
       "    </tr>\n",
       "    <tr>\n",
       "      <th>1.50</th>\n",
       "      <td>100009</td>\n",
       "    </tr>\n",
       "    <tr>\n",
       "      <th rowspan=\"2\" valign=\"top\">3</th>\n",
       "      <th>0.33</th>\n",
       "      <td>100009</td>\n",
       "    </tr>\n",
       "    <tr>\n",
       "      <th>1.50</th>\n",
       "      <td>100009</td>\n",
       "    </tr>\n",
       "    <tr>\n",
       "      <th rowspan=\"6\" valign=\"top\">2.17</th>\n",
       "      <th rowspan=\"2\" valign=\"top\">1</th>\n",
       "      <th>0.33</th>\n",
       "      <td>100009</td>\n",
       "    </tr>\n",
       "    <tr>\n",
       "      <th>1.50</th>\n",
       "      <td>100009</td>\n",
       "    </tr>\n",
       "    <tr>\n",
       "      <th rowspan=\"2\" valign=\"top\">2</th>\n",
       "      <th>0.33</th>\n",
       "      <td>100009</td>\n",
       "    </tr>\n",
       "    <tr>\n",
       "      <th>1.50</th>\n",
       "      <td>100009</td>\n",
       "    </tr>\n",
       "    <tr>\n",
       "      <th rowspan=\"2\" valign=\"top\">3</th>\n",
       "      <th>0.33</th>\n",
       "      <td>100009</td>\n",
       "    </tr>\n",
       "    <tr>\n",
       "      <th>1.50</th>\n",
       "      <td>100009</td>\n",
       "    </tr>\n",
       "    <tr>\n",
       "      <th rowspan=\"18\" valign=\"top\">3.50</th>\n",
       "      <th rowspan=\"6\" valign=\"top\">0.43</th>\n",
       "      <th rowspan=\"2\" valign=\"top\">1</th>\n",
       "      <th>0.33</th>\n",
       "      <td>100009</td>\n",
       "    </tr>\n",
       "    <tr>\n",
       "      <th>1.50</th>\n",
       "      <td>100009</td>\n",
       "    </tr>\n",
       "    <tr>\n",
       "      <th rowspan=\"2\" valign=\"top\">2</th>\n",
       "      <th>0.33</th>\n",
       "      <td>100009</td>\n",
       "    </tr>\n",
       "    <tr>\n",
       "      <th>1.50</th>\n",
       "      <td>100009</td>\n",
       "    </tr>\n",
       "    <tr>\n",
       "      <th rowspan=\"2\" valign=\"top\">3</th>\n",
       "      <th>0.33</th>\n",
       "      <td>100009</td>\n",
       "    </tr>\n",
       "    <tr>\n",
       "      <th>1.50</th>\n",
       "      <td>100009</td>\n",
       "    </tr>\n",
       "    <tr>\n",
       "      <th rowspan=\"6\" valign=\"top\">1.30</th>\n",
       "      <th rowspan=\"2\" valign=\"top\">1</th>\n",
       "      <th>0.33</th>\n",
       "      <td>100009</td>\n",
       "    </tr>\n",
       "    <tr>\n",
       "      <th>1.50</th>\n",
       "      <td>100009</td>\n",
       "    </tr>\n",
       "    <tr>\n",
       "      <th rowspan=\"2\" valign=\"top\">2</th>\n",
       "      <th>0.33</th>\n",
       "      <td>100009</td>\n",
       "    </tr>\n",
       "    <tr>\n",
       "      <th>1.50</th>\n",
       "      <td>100009</td>\n",
       "    </tr>\n",
       "    <tr>\n",
       "      <th rowspan=\"2\" valign=\"top\">3</th>\n",
       "      <th>0.33</th>\n",
       "      <td>100009</td>\n",
       "    </tr>\n",
       "    <tr>\n",
       "      <th>1.50</th>\n",
       "      <td>100009</td>\n",
       "    </tr>\n",
       "    <tr>\n",
       "      <th rowspan=\"6\" valign=\"top\">2.17</th>\n",
       "      <th rowspan=\"2\" valign=\"top\">1</th>\n",
       "      <th>0.33</th>\n",
       "      <td>100009</td>\n",
       "    </tr>\n",
       "    <tr>\n",
       "      <th>1.50</th>\n",
       "      <td>100009</td>\n",
       "    </tr>\n",
       "    <tr>\n",
       "      <th rowspan=\"2\" valign=\"top\">2</th>\n",
       "      <th>0.33</th>\n",
       "      <td>100010</td>\n",
       "    </tr>\n",
       "    <tr>\n",
       "      <th>1.50</th>\n",
       "      <td>100010</td>\n",
       "    </tr>\n",
       "    <tr>\n",
       "      <th rowspan=\"2\" valign=\"top\">3</th>\n",
       "      <th>0.33</th>\n",
       "      <td>100010</td>\n",
       "    </tr>\n",
       "    <tr>\n",
       "      <th>1.50</th>\n",
       "      <td>100010</td>\n",
       "    </tr>\n",
       "    <tr>\n",
       "      <th rowspan=\"18\" valign=\"top\">5.83</th>\n",
       "      <th rowspan=\"6\" valign=\"top\">0.43</th>\n",
       "      <th rowspan=\"2\" valign=\"top\">1</th>\n",
       "      <th>0.33</th>\n",
       "      <td>100010</td>\n",
       "    </tr>\n",
       "    <tr>\n",
       "      <th>1.50</th>\n",
       "      <td>100010</td>\n",
       "    </tr>\n",
       "    <tr>\n",
       "      <th rowspan=\"2\" valign=\"top\">2</th>\n",
       "      <th>0.33</th>\n",
       "      <td>100010</td>\n",
       "    </tr>\n",
       "    <tr>\n",
       "      <th>1.50</th>\n",
       "      <td>100010</td>\n",
       "    </tr>\n",
       "    <tr>\n",
       "      <th rowspan=\"2\" valign=\"top\">3</th>\n",
       "      <th>0.33</th>\n",
       "      <td>100010</td>\n",
       "    </tr>\n",
       "    <tr>\n",
       "      <th>1.50</th>\n",
       "      <td>100010</td>\n",
       "    </tr>\n",
       "    <tr>\n",
       "      <th rowspan=\"6\" valign=\"top\">1.30</th>\n",
       "      <th rowspan=\"2\" valign=\"top\">1</th>\n",
       "      <th>0.33</th>\n",
       "      <td>100010</td>\n",
       "    </tr>\n",
       "    <tr>\n",
       "      <th>1.50</th>\n",
       "      <td>100010</td>\n",
       "    </tr>\n",
       "    <tr>\n",
       "      <th rowspan=\"2\" valign=\"top\">2</th>\n",
       "      <th>0.33</th>\n",
       "      <td>100010</td>\n",
       "    </tr>\n",
       "    <tr>\n",
       "      <th>1.50</th>\n",
       "      <td>100010</td>\n",
       "    </tr>\n",
       "    <tr>\n",
       "      <th rowspan=\"2\" valign=\"top\">3</th>\n",
       "      <th>0.33</th>\n",
       "      <td>100009</td>\n",
       "    </tr>\n",
       "    <tr>\n",
       "      <th>1.50</th>\n",
       "      <td>100009</td>\n",
       "    </tr>\n",
       "    <tr>\n",
       "      <th rowspan=\"6\" valign=\"top\">2.17</th>\n",
       "      <th rowspan=\"2\" valign=\"top\">1</th>\n",
       "      <th>0.33</th>\n",
       "      <td>100009</td>\n",
       "    </tr>\n",
       "    <tr>\n",
       "      <th>1.50</th>\n",
       "      <td>100009</td>\n",
       "    </tr>\n",
       "    <tr>\n",
       "      <th rowspan=\"2\" valign=\"top\">2</th>\n",
       "      <th>0.33</th>\n",
       "      <td>100009</td>\n",
       "    </tr>\n",
       "    <tr>\n",
       "      <th>1.50</th>\n",
       "      <td>100009</td>\n",
       "    </tr>\n",
       "    <tr>\n",
       "      <th rowspan=\"2\" valign=\"top\">3</th>\n",
       "      <th>0.33</th>\n",
       "      <td>99509</td>\n",
       "    </tr>\n",
       "    <tr>\n",
       "      <th>1.50</th>\n",
       "      <td>100009</td>\n",
       "    </tr>\n",
       "  </tbody>\n",
       "</table>\n",
       "</div>"
      ],
      "text/plain": [
       "                      GameId\n",
       "sigma beta kapa gama        \n",
       "1.17  0.43 1    0.33  100009\n",
       "                1.50  100009\n",
       "           2    0.33  100009\n",
       "                1.50  100009\n",
       "           3    0.33  100009\n",
       "                1.50  100009\n",
       "      1.30 1    0.33  100009\n",
       "                1.50  100009\n",
       "           2    0.33  100009\n",
       "                1.50  100009\n",
       "           3    0.33  100009\n",
       "                1.50  100009\n",
       "      2.17 1    0.33  100009\n",
       "                1.50  100009\n",
       "           2    0.33  100009\n",
       "                1.50  100009\n",
       "           3    0.33  100009\n",
       "                1.50  100009\n",
       "3.50  0.43 1    0.33  100009\n",
       "                1.50  100009\n",
       "           2    0.33  100009\n",
       "                1.50  100009\n",
       "           3    0.33  100009\n",
       "                1.50  100009\n",
       "      1.30 1    0.33  100009\n",
       "                1.50  100009\n",
       "           2    0.33  100009\n",
       "                1.50  100009\n",
       "           3    0.33  100009\n",
       "                1.50  100009\n",
       "      2.17 1    0.33  100009\n",
       "                1.50  100009\n",
       "           2    0.33  100010\n",
       "                1.50  100010\n",
       "           3    0.33  100010\n",
       "                1.50  100010\n",
       "5.83  0.43 1    0.33  100010\n",
       "                1.50  100010\n",
       "           2    0.33  100010\n",
       "                1.50  100010\n",
       "           3    0.33  100010\n",
       "                1.50  100010\n",
       "      1.30 1    0.33  100010\n",
       "                1.50  100010\n",
       "           2    0.33  100010\n",
       "                1.50  100010\n",
       "           3    0.33  100009\n",
       "                1.50  100009\n",
       "      2.17 1    0.33  100009\n",
       "                1.50  100009\n",
       "           2    0.33  100009\n",
       "                1.50  100009\n",
       "           3    0.33   99509\n",
       "                1.50  100009"
      ]
     },
     "execution_count": 51,
     "metadata": {},
     "output_type": "execute_result"
    }
   ],
   "source": [
    "bb = pd.DataFrame(synth10.groupby(['sigma', 'beta', 'kapa', 'gama'])['GameId'].count())\n",
    "bb"
   ]
  },
  {
   "cell_type": "code",
   "execution_count": 53,
   "metadata": {},
   "outputs": [
    {
     "data": {
      "text/html": [
       "<div>\n",
       "<style scoped>\n",
       "    .dataframe tbody tr th:only-of-type {\n",
       "        vertical-align: middle;\n",
       "    }\n",
       "\n",
       "    .dataframe tbody tr th {\n",
       "        vertical-align: top;\n",
       "    }\n",
       "\n",
       "    .dataframe thead th {\n",
       "        text-align: right;\n",
       "    }\n",
       "</style>\n",
       "<table border=\"1\" class=\"dataframe\">\n",
       "  <thead>\n",
       "    <tr style=\"text-align: right;\">\n",
       "      <th></th>\n",
       "      <th></th>\n",
       "      <th></th>\n",
       "      <th>GameId</th>\n",
       "    </tr>\n",
       "    <tr>\n",
       "      <th>sigma</th>\n",
       "      <th>beta</th>\n",
       "      <th>kapa</th>\n",
       "      <th></th>\n",
       "    </tr>\n",
       "  </thead>\n",
       "  <tbody>\n",
       "    <tr>\n",
       "      <th rowspan=\"9\" valign=\"top\">1.17</th>\n",
       "      <th rowspan=\"3\" valign=\"top\">0.43</th>\n",
       "      <th>1</th>\n",
       "      <td>200018</td>\n",
       "    </tr>\n",
       "    <tr>\n",
       "      <th>2</th>\n",
       "      <td>200018</td>\n",
       "    </tr>\n",
       "    <tr>\n",
       "      <th>3</th>\n",
       "      <td>200018</td>\n",
       "    </tr>\n",
       "    <tr>\n",
       "      <th rowspan=\"3\" valign=\"top\">1.30</th>\n",
       "      <th>1</th>\n",
       "      <td>200018</td>\n",
       "    </tr>\n",
       "    <tr>\n",
       "      <th>2</th>\n",
       "      <td>200018</td>\n",
       "    </tr>\n",
       "    <tr>\n",
       "      <th>3</th>\n",
       "      <td>200018</td>\n",
       "    </tr>\n",
       "    <tr>\n",
       "      <th rowspan=\"3\" valign=\"top\">2.17</th>\n",
       "      <th>1</th>\n",
       "      <td>200018</td>\n",
       "    </tr>\n",
       "    <tr>\n",
       "      <th>2</th>\n",
       "      <td>200018</td>\n",
       "    </tr>\n",
       "    <tr>\n",
       "      <th>3</th>\n",
       "      <td>200018</td>\n",
       "    </tr>\n",
       "    <tr>\n",
       "      <th rowspan=\"9\" valign=\"top\">3.50</th>\n",
       "      <th rowspan=\"3\" valign=\"top\">0.43</th>\n",
       "      <th>1</th>\n",
       "      <td>200018</td>\n",
       "    </tr>\n",
       "    <tr>\n",
       "      <th>2</th>\n",
       "      <td>200018</td>\n",
       "    </tr>\n",
       "    <tr>\n",
       "      <th>3</th>\n",
       "      <td>200018</td>\n",
       "    </tr>\n",
       "    <tr>\n",
       "      <th rowspan=\"3\" valign=\"top\">1.30</th>\n",
       "      <th>1</th>\n",
       "      <td>200018</td>\n",
       "    </tr>\n",
       "    <tr>\n",
       "      <th>2</th>\n",
       "      <td>200018</td>\n",
       "    </tr>\n",
       "    <tr>\n",
       "      <th>3</th>\n",
       "      <td>200018</td>\n",
       "    </tr>\n",
       "    <tr>\n",
       "      <th rowspan=\"3\" valign=\"top\">2.17</th>\n",
       "      <th>1</th>\n",
       "      <td>200018</td>\n",
       "    </tr>\n",
       "    <tr>\n",
       "      <th>2</th>\n",
       "      <td>200020</td>\n",
       "    </tr>\n",
       "    <tr>\n",
       "      <th>3</th>\n",
       "      <td>200020</td>\n",
       "    </tr>\n",
       "    <tr>\n",
       "      <th rowspan=\"9\" valign=\"top\">5.83</th>\n",
       "      <th rowspan=\"3\" valign=\"top\">0.43</th>\n",
       "      <th>1</th>\n",
       "      <td>200020</td>\n",
       "    </tr>\n",
       "    <tr>\n",
       "      <th>2</th>\n",
       "      <td>200020</td>\n",
       "    </tr>\n",
       "    <tr>\n",
       "      <th>3</th>\n",
       "      <td>200020</td>\n",
       "    </tr>\n",
       "    <tr>\n",
       "      <th rowspan=\"3\" valign=\"top\">1.30</th>\n",
       "      <th>1</th>\n",
       "      <td>200020</td>\n",
       "    </tr>\n",
       "    <tr>\n",
       "      <th>2</th>\n",
       "      <td>200020</td>\n",
       "    </tr>\n",
       "    <tr>\n",
       "      <th>3</th>\n",
       "      <td>200018</td>\n",
       "    </tr>\n",
       "    <tr>\n",
       "      <th rowspan=\"3\" valign=\"top\">2.17</th>\n",
       "      <th>1</th>\n",
       "      <td>200018</td>\n",
       "    </tr>\n",
       "    <tr>\n",
       "      <th>2</th>\n",
       "      <td>200018</td>\n",
       "    </tr>\n",
       "    <tr>\n",
       "      <th>3</th>\n",
       "      <td>199518</td>\n",
       "    </tr>\n",
       "  </tbody>\n",
       "</table>\n",
       "</div>"
      ],
      "text/plain": [
       "                 GameId\n",
       "sigma beta kapa        \n",
       "1.17  0.43 1     200018\n",
       "           2     200018\n",
       "           3     200018\n",
       "      1.30 1     200018\n",
       "           2     200018\n",
       "           3     200018\n",
       "      2.17 1     200018\n",
       "           2     200018\n",
       "           3     200018\n",
       "3.50  0.43 1     200018\n",
       "           2     200018\n",
       "           3     200018\n",
       "      1.30 1     200018\n",
       "           2     200018\n",
       "           3     200018\n",
       "      2.17 1     200018\n",
       "           2     200020\n",
       "           3     200020\n",
       "5.83  0.43 1     200020\n",
       "           2     200020\n",
       "           3     200020\n",
       "      1.30 1     200020\n",
       "           2     200020\n",
       "           3     200018\n",
       "      2.17 1     200018\n",
       "           2     200018\n",
       "           3     199518"
      ]
     },
     "execution_count": 53,
     "metadata": {},
     "output_type": "execute_result"
    }
   ],
   "source": [
    "cc = pd.DataFrame(synth10.groupby(['sigma', 'beta', 'kapa'])['GameId'].count())\n",
    "cc"
   ]
  },
  {
   "cell_type": "code",
   "execution_count": 55,
   "metadata": {},
   "outputs": [
    {
     "data": {
      "text/html": [
       "<div>\n",
       "<style scoped>\n",
       "    .dataframe tbody tr th:only-of-type {\n",
       "        vertical-align: middle;\n",
       "    }\n",
       "\n",
       "    .dataframe tbody tr th {\n",
       "        vertical-align: top;\n",
       "    }\n",
       "\n",
       "    .dataframe thead th {\n",
       "        text-align: right;\n",
       "    }\n",
       "</style>\n",
       "<table border=\"1\" class=\"dataframe\">\n",
       "  <thead>\n",
       "    <tr style=\"text-align: right;\">\n",
       "      <th></th>\n",
       "      <th>GameId</th>\n",
       "    </tr>\n",
       "    <tr>\n",
       "      <th>kapa</th>\n",
       "      <th></th>\n",
       "    </tr>\n",
       "  </thead>\n",
       "  <tbody>\n",
       "    <tr>\n",
       "      <th>1</th>\n",
       "      <td>1800166</td>\n",
       "    </tr>\n",
       "    <tr>\n",
       "      <th>2</th>\n",
       "      <td>1800168</td>\n",
       "    </tr>\n",
       "    <tr>\n",
       "      <th>3</th>\n",
       "      <td>1799666</td>\n",
       "    </tr>\n",
       "  </tbody>\n",
       "</table>\n",
       "</div>"
      ],
      "text/plain": [
       "       GameId\n",
       "kapa         \n",
       "1     1800166\n",
       "2     1800168\n",
       "3     1799666"
      ]
     },
     "execution_count": 55,
     "metadata": {},
     "output_type": "execute_result"
    }
   ],
   "source": [
    "dd = pd.DataFrame(synth10.groupby(['kapa'])['GameId'].count())\n",
    "dd"
   ]
  },
  {
   "cell_type": "markdown",
   "metadata": {},
   "source": [
    "# Check synthetic kapa"
   ]
  },
  {
   "cell_type": "code",
   "execution_count": 296,
   "metadata": {},
   "outputs": [
    {
     "name": "stdout",
     "output_type": "stream",
     "text": [
      "[1 2 3]\n",
      "200    1500\n",
      "Name: GameId, dtype: int64\n",
      "[1 2 3]\n",
      "200    1500\n",
      "Name: GameId, dtype: int64\n",
      "[1 2 3]\n",
      "200    1500\n",
      "Name: GameId, dtype: int64\n",
      "[1 2 3]\n",
      "200    1500\n",
      "Name: GameId, dtype: int64\n",
      "[1 2 3]\n",
      "200    1500\n",
      "Name: GameId, dtype: int64\n",
      "[1 2 3]\n",
      "200    1500\n",
      "Name: GameId, dtype: int64\n",
      "[1 2 3]\n",
      "200    1500\n",
      "Name: GameId, dtype: int64\n",
      "[1 2 3]\n",
      "200    1500\n",
      "Name: GameId, dtype: int64\n",
      "[1 2 3]\n",
      "200    1500\n",
      "Name: GameId, dtype: int64\n",
      "[1 2 3]\n",
      "200    1500\n",
      "Name: GameId, dtype: int64\n",
      "[1 2 3]\n",
      "200    1500\n",
      "Name: GameId, dtype: int64\n",
      "[1 2 3]\n",
      "200    1500\n",
      "Name: GameId, dtype: int64\n",
      "[1 2 3]\n",
      "200    1500\n",
      "Name: GameId, dtype: int64\n",
      "[1 2 3]\n",
      "200    1500\n",
      "Name: GameId, dtype: int64\n",
      "[1 2 3]\n",
      "200    1500\n",
      "Name: GameId, dtype: int64\n",
      "[1 2 3]\n",
      "200    1500\n",
      "Name: GameId, dtype: int64\n",
      "[1 2 3]\n",
      "200    1500\n",
      "Name: GameId, dtype: int64\n",
      "[1 2 3]\n",
      "200    1500\n",
      "Name: GameId, dtype: int64\n",
      "[1 2 3]\n",
      "200    1500\n",
      "Name: GameId, dtype: int64\n",
      "[1 2 3]\n",
      "200    1500\n",
      "Name: GameId, dtype: int64\n"
     ]
    }
   ],
   "source": [
    "for i in range(20) : \n",
    "    synth_kapa = pd.read_csv('/home/meghanmergui/Synth20/Create_Synthetic_Games/3_Generate_Answers /synth_all_kapa/synth_' + str(i) +'.csv')\n",
    "    print(synth_kapa.kapa.unique())\n",
    "    a = pd.DataFrame(synth_kapa.groupby(['kapa', 'GameId'])['GameId'].count())\n",
    "    print(a.GameId.value_counts())"
   ]
  },
  {
   "cell_type": "code",
   "execution_count": 287,
   "metadata": {},
   "outputs": [
    {
     "data": {
      "text/plain": [
       "500"
      ]
     },
     "execution_count": 287,
     "metadata": {},
     "output_type": "execute_result"
    }
   ],
   "source": [
    "synth_kapa.GameId.nunique()"
   ]
  },
  {
   "cell_type": "code",
   "execution_count": 288,
   "metadata": {},
   "outputs": [
    {
     "data": {
      "text/plain": [
       "(300000, 22)"
      ]
     },
     "execution_count": 288,
     "metadata": {},
     "output_type": "execute_result"
    }
   ],
   "source": [
    "synth_kapa.shape"
   ]
  },
  {
   "cell_type": "code",
   "execution_count": 289,
   "metadata": {},
   "outputs": [
    {
     "data": {
      "text/plain": [
       "array([1, 2, 3])"
      ]
     },
     "execution_count": 289,
     "metadata": {},
     "output_type": "execute_result"
    }
   ],
   "source": [
    "synth_kapa.kapa.unique()"
   ]
  },
  {
   "cell_type": "code",
   "execution_count": 7,
   "metadata": {},
   "outputs": [
    {
     "data": {
      "text/plain": [
       "6000000"
      ]
     },
     "execution_count": 7,
     "metadata": {},
     "output_type": "execute_result"
    }
   ],
   "source": [
    "3*200*10000\n"
   ]
  },
  {
   "cell_type": "code",
   "execution_count": 290,
   "metadata": {},
   "outputs": [
    {
     "data": {
      "text/plain": [
       "(3, 4)"
      ]
     },
     "execution_count": 290,
     "metadata": {},
     "output_type": "execute_result"
    }
   ],
   "source": [
    "synth_kapa[['sigma', 'beta', 'kapa', 'gama']].drop_duplicates().shape"
   ]
  },
  {
   "cell_type": "code",
   "execution_count": 291,
   "metadata": {},
   "outputs": [
    {
     "data": {
      "text/plain": [
       "(0, 22)"
      ]
     },
     "execution_count": 291,
     "metadata": {},
     "output_type": "execute_result"
    }
   ],
   "source": [
    "synth_kapa.loc[~(synth_kapa['kapa'].isin([1,2,3]))].shape"
   ]
  },
  {
   "cell_type": "code",
   "execution_count": 292,
   "metadata": {},
   "outputs": [
    {
     "data": {
      "text/plain": [
       "(1500, 2)"
      ]
     },
     "execution_count": 292,
     "metadata": {},
     "output_type": "execute_result"
    }
   ],
   "source": [
    "synth_kapa[['GameId', 'kapa']].drop_duplicates().shape"
   ]
  },
  {
   "cell_type": "code",
   "execution_count": 9,
   "metadata": {},
   "outputs": [
    {
     "data": {
      "text/plain": [
       "1500"
      ]
     },
     "execution_count": 9,
     "metadata": {},
     "output_type": "execute_result"
    }
   ],
   "source": [
    "3*500"
   ]
  },
  {
   "cell_type": "code",
   "execution_count": 293,
   "metadata": {
    "scrolled": true
   },
   "outputs": [
    {
     "data": {
      "text/plain": [
       "100000    3\n",
       "Name: GameId, dtype: int64"
      ]
     },
     "execution_count": 293,
     "metadata": {},
     "output_type": "execute_result"
    }
   ],
   "source": [
    "aa = pd.DataFrame(synth_kapa.groupby(['sigma', 'beta', 'gama', 'kapa'])['GameId'].count())\n",
    "\n",
    "aa.GameId.value_counts()"
   ]
  },
  {
   "cell_type": "code",
   "execution_count": 294,
   "metadata": {},
   "outputs": [
    {
     "data": {
      "text/html": [
       "<div>\n",
       "<style scoped>\n",
       "    .dataframe tbody tr th:only-of-type {\n",
       "        vertical-align: middle;\n",
       "    }\n",
       "\n",
       "    .dataframe tbody tr th {\n",
       "        vertical-align: top;\n",
       "    }\n",
       "\n",
       "    .dataframe thead th {\n",
       "        text-align: right;\n",
       "    }\n",
       "</style>\n",
       "<table border=\"1\" class=\"dataframe\">\n",
       "  <thead>\n",
       "    <tr style=\"text-align: right;\">\n",
       "      <th></th>\n",
       "      <th></th>\n",
       "      <th></th>\n",
       "      <th></th>\n",
       "      <th>GameId</th>\n",
       "    </tr>\n",
       "    <tr>\n",
       "      <th>sigma</th>\n",
       "      <th>beta</th>\n",
       "      <th>gama</th>\n",
       "      <th>kapa</th>\n",
       "      <th></th>\n",
       "    </tr>\n",
       "  </thead>\n",
       "  <tbody>\n",
       "    <tr>\n",
       "      <th rowspan=\"3\" valign=\"top\">3.5</th>\n",
       "      <th rowspan=\"3\" valign=\"top\">1.3</th>\n",
       "      <th rowspan=\"3\" valign=\"top\">0.25</th>\n",
       "      <th>1</th>\n",
       "      <td>100000</td>\n",
       "    </tr>\n",
       "    <tr>\n",
       "      <th>2</th>\n",
       "      <td>100000</td>\n",
       "    </tr>\n",
       "    <tr>\n",
       "      <th>3</th>\n",
       "      <td>100000</td>\n",
       "    </tr>\n",
       "  </tbody>\n",
       "</table>\n",
       "</div>"
      ],
      "text/plain": [
       "                      GameId\n",
       "sigma beta gama kapa        \n",
       "3.5   1.3  0.25 1     100000\n",
       "                2     100000\n",
       "                3     100000"
      ]
     },
     "execution_count": 294,
     "metadata": {},
     "output_type": "execute_result"
    }
   ],
   "source": [
    "aa"
   ]
  },
  {
   "cell_type": "code",
   "execution_count": 295,
   "metadata": {},
   "outputs": [
    {
     "name": "stdout",
     "output_type": "stream",
     "text": [
      "             GameId\n",
      "kapa GameId        \n",
      "1    5001       200\n",
      "     5002       200\n",
      "     5003       200\n",
      "     5004       200\n",
      "     5005       200\n"
     ]
    },
    {
     "data": {
      "text/plain": [
       "200    1500\n",
       "Name: GameId, dtype: int64"
      ]
     },
     "execution_count": 295,
     "metadata": {},
     "output_type": "execute_result"
    }
   ],
   "source": [
    "a = pd.DataFrame(synth_kapa.groupby(['kapa', 'GameId'])['GameId'].count())\n",
    "print(a.head())\n",
    "a.GameId.value_counts()"
   ]
  },
  {
   "cell_type": "code",
   "execution_count": 43,
   "metadata": {},
   "outputs": [],
   "source": [
    "b = a.loc[a.GameId.isin([199, 201])]\n",
    "b.columns = ['counts']\n",
    "b.reset_index( inplace = True)"
   ]
  },
  {
   "cell_type": "code",
   "execution_count": 79,
   "metadata": {},
   "outputs": [
    {
     "data": {
      "text/html": [
       "<div>\n",
       "<style scoped>\n",
       "    .dataframe tbody tr th:only-of-type {\n",
       "        vertical-align: middle;\n",
       "    }\n",
       "\n",
       "    .dataframe tbody tr th {\n",
       "        vertical-align: top;\n",
       "    }\n",
       "\n",
       "    .dataframe thead th {\n",
       "        text-align: right;\n",
       "    }\n",
       "</style>\n",
       "<table border=\"1\" class=\"dataframe\">\n",
       "  <thead>\n",
       "    <tr style=\"text-align: right;\">\n",
       "      <th></th>\n",
       "      <th>kapa</th>\n",
       "      <th>GameId</th>\n",
       "      <th>counts</th>\n",
       "    </tr>\n",
       "  </thead>\n",
       "  <tbody>\n",
       "    <tr>\n",
       "      <th>2</th>\n",
       "      <td>1</td>\n",
       "      <td>7</td>\n",
       "      <td>201</td>\n",
       "    </tr>\n",
       "    <tr>\n",
       "      <th>338</th>\n",
       "      <td>3</td>\n",
       "      <td>7</td>\n",
       "      <td>199</td>\n",
       "    </tr>\n",
       "  </tbody>\n",
       "</table>\n",
       "</div>"
      ],
      "text/plain": [
       "     kapa  GameId  counts\n",
       "2       1       7     201\n",
       "338     3       7     199"
      ]
     },
     "execution_count": 79,
     "metadata": {},
     "output_type": "execute_result"
    }
   ],
   "source": [
    "b.loc[b.GameId == 7]"
   ]
  },
  {
   "cell_type": "code",
   "execution_count": 280,
   "metadata": {},
   "outputs": [],
   "source": [
    "Data = pd.read_csv('/home/meghanmergui/Synth20/Create_Synthetic_Games/1_games_10K/Synth10K2.csv')\n",
    "Data['GameId'] = range(1, len(Data) + 1)\n",
    "nProblems = Data['GameId'].unique()\n",
    "i = 3\n",
    "nProblems_i = nProblems[i*500 : 500*(i+1)]\n"
   ]
  },
  {
   "cell_type": "code",
   "execution_count": 281,
   "metadata": {},
   "outputs": [
    {
     "data": {
      "text/plain": [
       "(500, 13)"
      ]
     },
     "execution_count": 281,
     "metadata": {},
     "output_type": "execute_result"
    }
   ],
   "source": [
    "Data.loc[Data.GameId.isin(nProblems_i)].shape"
   ]
  },
  {
   "cell_type": "code",
   "execution_count": 282,
   "metadata": {},
   "outputs": [],
   "source": [
    "game = nProblems_i[0] \n",
    "# read problem's parameters\n",
    "Ha = Data.loc[Data.GameId == game, 'Ha'].values[0]\n",
    "pHa = Data.loc[Data.GameId == game, 'pHa'].values[0]\n",
    "La = Data.loc[Data.GameId == game, 'La'].values[0]\n",
    "LotShapeA = Data.loc[Data.GameId == game, 'LotShapeA'].values[0]\n",
    "LotNumA = Data.loc[Data.GameId == game, 'LotNumA'].values[0]\n",
    "Hb = Data.loc[Data.GameId == game, 'Hb'].values[0]\n",
    "pHb = Data.loc[Data.GameId == game]['pHb'].values[0]\n",
    "Lb = Data.loc[Data.GameId == game]['Lb'].values[0]\n",
    "LotShapeB = Data.loc[Data.GameId == game]['LotShapeB'].values[0]\n",
    "LotNumB = Data.loc[Data.GameId == game]['LotNumB'].values[0]\n",
    "Amb = Data.loc[Data.GameId == game]['Amb'].values[0]\n",
    "Corr = Data.loc[Data.GameId == game]['Corr'].values[0]\n"
   ]
  },
  {
   "cell_type": "code",
   "execution_count": 283,
   "metadata": {},
   "outputs": [],
   "source": [
    "(all_prediction, Prediction) = CPC15_BEAST_individual_pred(Ha, pHa, La, LotShapeA, LotNumA, Hb, pHb, Lb, LotShapeB, LotNumB, Amb, Corr)"
   ]
  },
  {
   "cell_type": "code",
   "execution_count": 284,
   "metadata": {},
   "outputs": [
    {
     "data": {
      "text/html": [
       "<div>\n",
       "<style scoped>\n",
       "    .dataframe tbody tr th:only-of-type {\n",
       "        vertical-align: middle;\n",
       "    }\n",
       "\n",
       "    .dataframe tbody tr th {\n",
       "        vertical-align: top;\n",
       "    }\n",
       "\n",
       "    .dataframe thead th {\n",
       "        text-align: right;\n",
       "    }\n",
       "</style>\n",
       "<table border=\"1\" class=\"dataframe\">\n",
       "  <thead>\n",
       "    <tr style=\"text-align: right;\">\n",
       "      <th></th>\n",
       "      <th>Ha</th>\n",
       "      <th>pHa</th>\n",
       "      <th>La</th>\n",
       "      <th>LotNumA</th>\n",
       "      <th>LotShapeA</th>\n",
       "      <th>Hb</th>\n",
       "      <th>pHb</th>\n",
       "      <th>Lb</th>\n",
       "      <th>LotNumB</th>\n",
       "      <th>LotShapeB</th>\n",
       "      <th>Corr</th>\n",
       "      <th>Amb</th>\n",
       "      <th>GameId</th>\n",
       "    </tr>\n",
       "  </thead>\n",
       "  <tbody>\n",
       "    <tr>\n",
       "      <th>1500</th>\n",
       "      <td>61</td>\n",
       "      <td>0.4</td>\n",
       "      <td>-7</td>\n",
       "      <td>7</td>\n",
       "      <td>L-skew</td>\n",
       "      <td>44</td>\n",
       "      <td>0.01</td>\n",
       "      <td>21</td>\n",
       "      <td>2</td>\n",
       "      <td>Symm</td>\n",
       "      <td>0</td>\n",
       "      <td>0</td>\n",
       "      <td>1501</td>\n",
       "    </tr>\n",
       "  </tbody>\n",
       "</table>\n",
       "</div>"
      ],
      "text/plain": [
       "      Ha  pHa  La  LotNumA LotShapeA  Hb   pHb  Lb  LotNumB LotShapeB  Corr  \\\n",
       "1500  61  0.4  -7        7    L-skew  44  0.01  21        2      Symm     0   \n",
       "\n",
       "      Amb  GameId  \n",
       "1500    0    1501  "
      ]
     },
     "execution_count": 284,
     "metadata": {},
     "output_type": "execute_result"
    }
   ],
   "source": [
    "Data.loc[Data.GameId == game]"
   ]
  },
  {
   "cell_type": "code",
   "execution_count": 285,
   "metadata": {},
   "outputs": [],
   "source": [
    "Data.loc[Data.GameId == game, 'Beast1'] = Prediction[0]"
   ]
  },
  {
   "cell_type": "code",
   "execution_count": 265,
   "metadata": {},
   "outputs": [],
   "source": [
    "# Replicate the Problem 200 times, for 200 participants in each problem \n",
    "dfdf = Data.loc[(Data.GameId == game)].copy()\n",
    "rep_prob = pd.DataFrame(np.repeat(dfdf.values, int(200*3)-1, axis = 0), columns= Data.columns)\n",
    "Data = Data.append(rep_prob, ignore_index = True) "
   ]
  },
  {
   "cell_type": "code",
   "execution_count": 266,
   "metadata": {},
   "outputs": [
    {
     "data": {
      "text/plain": [
       "(600, 14)"
      ]
     },
     "execution_count": 266,
     "metadata": {},
     "output_type": "execute_result"
    }
   ],
   "source": [
    "Data.loc[Data.GameId == game].shape"
   ]
  },
  {
   "cell_type": "code",
   "execution_count": 267,
   "metadata": {},
   "outputs": [],
   "source": [
    "all_pred_df= pd.DataFrame.from_records(all_prediction)\n",
    "all_pred_df.shape\n",
    "all_pred_df.columns =  ['B1', 'sigma', 'kapa', 'beta', 'gama', 'psi', 'theta', 'wamb']\n"
   ]
  },
  {
   "cell_type": "code",
   "execution_count": 268,
   "metadata": {},
   "outputs": [],
   "source": [
    "#         rep_prob = pd.DataFrame(np.repeat(dfdf.values, int(200*54)-1, axis = 0), columns= Data.columns)\n",
    "for col in ['B1', 'sigma', 'kapa', 'beta', 'gama', 'psi', 'theta', 'wamb'] :\n",
    "    Data.loc[(Data['GameId'] == game), col] = pd.Series(list(all_pred_df[col])).values\n"
   ]
  },
  {
   "cell_type": "code",
   "execution_count": 269,
   "metadata": {},
   "outputs": [
    {
     "data": {
      "text/plain": [
       "(600, 8)"
      ]
     },
     "execution_count": 269,
     "metadata": {},
     "output_type": "execute_result"
    }
   ],
   "source": [
    "Data.loc[(Data['GameId'] == game), ['B1', 'sigma', 'kapa', 'beta', 'gama', 'psi', 'theta', 'wamb']].shape"
   ]
  },
  {
   "cell_type": "code",
   "execution_count": 270,
   "metadata": {},
   "outputs": [
    {
     "data": {
      "text/html": [
       "<div>\n",
       "<style scoped>\n",
       "    .dataframe tbody tr th:only-of-type {\n",
       "        vertical-align: middle;\n",
       "    }\n",
       "\n",
       "    .dataframe tbody tr th {\n",
       "        vertical-align: top;\n",
       "    }\n",
       "\n",
       "    .dataframe thead th {\n",
       "        text-align: right;\n",
       "    }\n",
       "</style>\n",
       "<table border=\"1\" class=\"dataframe\">\n",
       "  <thead>\n",
       "    <tr style=\"text-align: right;\">\n",
       "      <th></th>\n",
       "      <th>Ha</th>\n",
       "      <th>pHa</th>\n",
       "      <th>La</th>\n",
       "      <th>LotNumA</th>\n",
       "      <th>LotShapeA</th>\n",
       "      <th>Hb</th>\n",
       "      <th>pHb</th>\n",
       "      <th>Lb</th>\n",
       "      <th>LotNumB</th>\n",
       "      <th>LotShapeB</th>\n",
       "      <th>...</th>\n",
       "      <th>GameId</th>\n",
       "      <th>Beast1</th>\n",
       "      <th>B1</th>\n",
       "      <th>sigma</th>\n",
       "      <th>kapa</th>\n",
       "      <th>beta</th>\n",
       "      <th>gama</th>\n",
       "      <th>psi</th>\n",
       "      <th>theta</th>\n",
       "      <th>wamb</th>\n",
       "    </tr>\n",
       "  </thead>\n",
       "  <tbody>\n",
       "    <tr>\n",
       "      <th>1500</th>\n",
       "      <td>61</td>\n",
       "      <td>0.4</td>\n",
       "      <td>-7</td>\n",
       "      <td>7</td>\n",
       "      <td>L-skew</td>\n",
       "      <td>44</td>\n",
       "      <td>0.01</td>\n",
       "      <td>21</td>\n",
       "      <td>2</td>\n",
       "      <td>Symm</td>\n",
       "      <td>...</td>\n",
       "      <td>1501</td>\n",
       "      <td>0.772</td>\n",
       "      <td>1.0</td>\n",
       "      <td>3.5</td>\n",
       "      <td>1.0</td>\n",
       "      <td>1.3</td>\n",
       "      <td>0.25</td>\n",
       "      <td>0.004856</td>\n",
       "      <td>0.969236</td>\n",
       "      <td>0.0</td>\n",
       "    </tr>\n",
       "    <tr>\n",
       "      <th>10000</th>\n",
       "      <td>61</td>\n",
       "      <td>0.4</td>\n",
       "      <td>-7</td>\n",
       "      <td>7</td>\n",
       "      <td>L-skew</td>\n",
       "      <td>44</td>\n",
       "      <td>0.01</td>\n",
       "      <td>21</td>\n",
       "      <td>2</td>\n",
       "      <td>Symm</td>\n",
       "      <td>...</td>\n",
       "      <td>1501</td>\n",
       "      <td>0.772</td>\n",
       "      <td>0.4</td>\n",
       "      <td>3.5</td>\n",
       "      <td>2.0</td>\n",
       "      <td>1.3</td>\n",
       "      <td>0.25</td>\n",
       "      <td>0.004856</td>\n",
       "      <td>0.969236</td>\n",
       "      <td>0.0</td>\n",
       "    </tr>\n",
       "    <tr>\n",
       "      <th>10001</th>\n",
       "      <td>61</td>\n",
       "      <td>0.4</td>\n",
       "      <td>-7</td>\n",
       "      <td>7</td>\n",
       "      <td>L-skew</td>\n",
       "      <td>44</td>\n",
       "      <td>0.01</td>\n",
       "      <td>21</td>\n",
       "      <td>2</td>\n",
       "      <td>Symm</td>\n",
       "      <td>...</td>\n",
       "      <td>1501</td>\n",
       "      <td>0.772</td>\n",
       "      <td>0.8</td>\n",
       "      <td>3.5</td>\n",
       "      <td>3.0</td>\n",
       "      <td>1.3</td>\n",
       "      <td>0.25</td>\n",
       "      <td>0.004856</td>\n",
       "      <td>0.969236</td>\n",
       "      <td>0.0</td>\n",
       "    </tr>\n",
       "    <tr>\n",
       "      <th>10002</th>\n",
       "      <td>61</td>\n",
       "      <td>0.4</td>\n",
       "      <td>-7</td>\n",
       "      <td>7</td>\n",
       "      <td>L-skew</td>\n",
       "      <td>44</td>\n",
       "      <td>0.01</td>\n",
       "      <td>21</td>\n",
       "      <td>2</td>\n",
       "      <td>Symm</td>\n",
       "      <td>...</td>\n",
       "      <td>1501</td>\n",
       "      <td>0.772</td>\n",
       "      <td>0.8</td>\n",
       "      <td>3.5</td>\n",
       "      <td>1.0</td>\n",
       "      <td>1.3</td>\n",
       "      <td>0.25</td>\n",
       "      <td>0.065254</td>\n",
       "      <td>0.597578</td>\n",
       "      <td>0.0</td>\n",
       "    </tr>\n",
       "    <tr>\n",
       "      <th>10003</th>\n",
       "      <td>61</td>\n",
       "      <td>0.4</td>\n",
       "      <td>-7</td>\n",
       "      <td>7</td>\n",
       "      <td>L-skew</td>\n",
       "      <td>44</td>\n",
       "      <td>0.01</td>\n",
       "      <td>21</td>\n",
       "      <td>2</td>\n",
       "      <td>Symm</td>\n",
       "      <td>...</td>\n",
       "      <td>1501</td>\n",
       "      <td>0.772</td>\n",
       "      <td>0.8</td>\n",
       "      <td>3.5</td>\n",
       "      <td>2.0</td>\n",
       "      <td>1.3</td>\n",
       "      <td>0.25</td>\n",
       "      <td>0.065254</td>\n",
       "      <td>0.597578</td>\n",
       "      <td>0.0</td>\n",
       "    </tr>\n",
       "  </tbody>\n",
       "</table>\n",
       "<p>5 rows × 22 columns</p>\n",
       "</div>"
      ],
      "text/plain": [
       "       Ha  pHa  La LotNumA LotShapeA  Hb   pHb  Lb LotNumB LotShapeB  ...   \\\n",
       "1500   61  0.4  -7       7    L-skew  44  0.01  21       2      Symm  ...    \n",
       "10000  61  0.4  -7       7    L-skew  44  0.01  21       2      Symm  ...    \n",
       "10001  61  0.4  -7       7    L-skew  44  0.01  21       2      Symm  ...    \n",
       "10002  61  0.4  -7       7    L-skew  44  0.01  21       2      Symm  ...    \n",
       "10003  61  0.4  -7       7    L-skew  44  0.01  21       2      Symm  ...    \n",
       "\n",
       "      GameId Beast1   B1 sigma  kapa  beta  gama       psi     theta  wamb  \n",
       "1500    1501  0.772  1.0   3.5   1.0   1.3  0.25  0.004856  0.969236   0.0  \n",
       "10000   1501  0.772  0.4   3.5   2.0   1.3  0.25  0.004856  0.969236   0.0  \n",
       "10001   1501  0.772  0.8   3.5   3.0   1.3  0.25  0.004856  0.969236   0.0  \n",
       "10002   1501  0.772  0.8   3.5   1.0   1.3  0.25  0.065254  0.597578   0.0  \n",
       "10003   1501  0.772  0.8   3.5   2.0   1.3  0.25  0.065254  0.597578   0.0  \n",
       "\n",
       "[5 rows x 22 columns]"
      ]
     },
     "execution_count": 270,
     "metadata": {},
     "output_type": "execute_result"
    }
   ],
   "source": [
    "Data.loc[Data.GameId == game].head()"
   ]
  },
  {
   "cell_type": "code",
   "execution_count": 275,
   "metadata": {},
   "outputs": [
    {
     "data": {
      "text/plain": [
       "600"
      ]
     },
     "execution_count": 275,
     "metadata": {},
     "output_type": "execute_result"
    }
   ],
   "source": [
    "Data.loc[Data.GameId==game][['GameId', 'kapa']]['GameId'].count()"
   ]
  },
  {
   "cell_type": "code",
   "execution_count": 276,
   "metadata": {},
   "outputs": [
    {
     "data": {
      "text/plain": [
       "(600, 22)"
      ]
     },
     "execution_count": 276,
     "metadata": {},
     "output_type": "execute_result"
    }
   ],
   "source": [
    "Data.loc[Data.GameId == game].shape"
   ]
  },
  {
   "cell_type": "code",
   "execution_count": 279,
   "metadata": {},
   "outputs": [
    {
     "data": {
      "text/plain": [
       "array([1., 2., 3.])"
      ]
     },
     "execution_count": 279,
     "metadata": {},
     "output_type": "execute_result"
    }
   ],
   "source": [
    "Data.loc[Data.GameId == game].kapa.unique()"
   ]
  },
  {
   "cell_type": "code",
   "execution_count": 88,
   "metadata": {},
   "outputs": [
    {
     "name": "stdout",
     "output_type": "stream",
     "text": [
      "1\n",
      "2\n",
      "3\n",
      "4\n",
      "5\n",
      "6\n",
      "7\n",
      "8\n",
      "9\n",
      "10\n",
      "11\n",
      "12\n",
      "13\n",
      "14\n",
      "15\n",
      "16\n",
      "17\n",
      "18\n",
      "19\n",
      "20\n",
      "21\n",
      "22\n",
      "23\n",
      "24\n",
      "25\n",
      "26\n",
      "27\n",
      "28\n",
      "29\n",
      "30\n",
      "31\n",
      "32\n",
      "33\n",
      "34\n",
      "35\n",
      "36\n",
      "37\n",
      "38\n",
      "39\n",
      "40\n",
      "41\n",
      "42\n",
      "43\n",
      "44\n",
      "45\n",
      "46\n",
      "47\n",
      "48\n",
      "49\n",
      "50\n"
     ]
    }
   ],
   "source": [
    "for i in range(1, 50 + 1) : \n",
    "    print(i)"
   ]
  },
  {
   "cell_type": "code",
   "execution_count": null,
   "metadata": {},
   "outputs": [],
   "source": []
  }
 ],
 "metadata": {
  "kernelspec": {
   "display_name": "Python 3",
   "language": "python",
   "name": "python3"
  },
  "language_info": {
   "codemirror_mode": {
    "name": "ipython",
    "version": 3
   },
   "file_extension": ".py",
   "mimetype": "text/x-python",
   "name": "python",
   "nbconvert_exporter": "python",
   "pygments_lexer": "ipython3",
   "version": "3.6.9"
  },
  "toc": {
   "base_numbering": 1,
   "nav_menu": {},
   "number_sections": true,
   "sideBar": true,
   "skip_h1_title": false,
   "title_cell": "Table of Contents",
   "title_sidebar": "Contents",
   "toc_cell": false,
   "toc_position": {
    "height": "calc(100% - 180px)",
    "left": "10px",
    "top": "150px",
    "width": "291px"
   },
   "toc_section_display": true,
   "toc_window_display": true
  }
 },
 "nbformat": 4,
 "nbformat_minor": 2
}
